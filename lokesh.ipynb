{
  "cells": [
    {
      "cell_type": "markdown",
      "metadata": {
        "id": "view-in-github",
        "colab_type": "text"
      },
      "source": [
        "<a href=\"https://colab.research.google.com/github/Lokesh830950/patterns/blob/main/lokesh.ipynb\" target=\"_parent\"><img src=\"https://colab.research.google.com/assets/colab-badge.svg\" alt=\"Open In Colab\"/></a>"
      ]
    },
    {
      "cell_type": "code",
      "execution_count": null,
      "metadata": {
        "colab": {
          "base_uri": "https://localhost:8080/"
        },
        "id": "Cp27GQwkTFw-",
        "outputId": "0691e059-68af-4a42-a32a-01359ef62ccb"
      },
      "outputs": [
        {
          "name": "stdout",
          "output_type": "stream",
          "text": [
            "[1, 2, 3, 4, ['apple', 'orange']]\n",
            "[1, 2, 3, 4, ['apple', 'orange'], 'apple', 'orange']\n"
          ]
        }
      ],
      "source": [
        "l1=[1,2,3,4]\n",
        "l2=[\"apple\",\"orange\"]\n",
        "l1.append(l2)\n",
        "print(l1)\n",
        "l1.extend(l2)\n",
        "print(l1)"
      ]
    },
    {
      "cell_type": "code",
      "source": [
        "pd.data[['lable']]=pd.data[['loki']]"
      ],
      "metadata": {
        "id": "OUcDCx6driQH"
      },
      "execution_count": null,
      "outputs": []
    },
    {
      "cell_type": "code",
      "source": [
        "n=int(input())\n",
        "for i in range(0,n+1):\n",
        "  for j in range(1,i+1):\n",
        "    print(j,end=\" \")\n",
        "  print()"
      ],
      "metadata": {
        "colab": {
          "base_uri": "https://localhost:8080/"
        },
        "id": "ciaNx6sqi_E1",
        "outputId": "349b838a-2e33-4ab4-d081-1cd54b554c91"
      },
      "execution_count": null,
      "outputs": [
        {
          "output_type": "stream",
          "name": "stdout",
          "text": [
            "5\n",
            "\n",
            "1 \n",
            "1 2 \n",
            "1 2 3 \n",
            "1 2 3 4 \n",
            "1 2 3 4 5 \n"
          ]
        }
      ]
    },
    {
      "cell_type": "code",
      "execution_count": null,
      "metadata": {
        "colab": {
          "base_uri": "https://localhost:8080/"
        },
        "id": "m6ERpvkCTV-j",
        "outputId": "7d4bafc5-965a-4706-cbf4-5cc475a17f38"
      },
      "outputs": [
        {
          "name": "stdout",
          "output_type": "stream",
          "text": [
            "156\n",
            "not prime\n"
          ]
        }
      ],
      "source": [
        "n=int(input())\n",
        "count=0\n",
        "for i in range(2,n//2+1):\n",
        "  if n%i==0:\n",
        "    count+=1\n",
        "    break\n",
        "if count==0:\n",
        "  print(\"prime\")\n",
        "else:\n",
        "  print(\"not prime\")\n"
      ]
    },
    {
      "cell_type": "code",
      "execution_count": null,
      "metadata": {
        "colab": {
          "base_uri": "https://localhost:8080/"
        },
        "id": "m9bJJlUOVh04",
        "outputId": "64020490-91be-4b3b-d0ea-476185f6a363"
      },
      "outputs": [
        {
          "name": "stdout",
          "output_type": "stream",
          "text": [
            "rning\n"
          ]
        }
      ],
      "source": [
        "m=\"goodmorning\"\n",
        "print(m[-5:])"
      ]
    },
    {
      "cell_type": "code",
      "execution_count": null,
      "metadata": {
        "id": "dgHTJUVJVwA7"
      },
      "outputs": [],
      "source": []
    },
    {
      "cell_type": "code",
      "execution_count": null,
      "metadata": {
        "colab": {
          "base_uri": "https://localhost:8080/"
        },
        "id": "HCe1duNRUgFI",
        "outputId": "d12f8717-9baf-49cf-e24e-031e5443f872"
      },
      "outputs": [
        {
          "name": "stdout",
          "output_type": "stream",
          "text": [
            "4\n",
            "$$$$\n",
            "$  $\n",
            "$  $\n",
            "$$$$\n"
          ]
        }
      ],
      "source": [
        "n=int(input())\n",
        "for i in range(n):\n",
        "  for j in range(n):\n",
        "    if i==0 or i==n-1 or j==0 or j==n-1:\n",
        "      print(\"$\",end=\"\")\n",
        "    else:\n",
        "      print(end=\" \")\n",
        "  print()"
      ]
    },
    {
      "cell_type": "code",
      "execution_count": null,
      "metadata": {
        "colab": {
          "base_uri": "https://localhost:8080/"
        },
        "id": "qCQrH23KbniY",
        "outputId": "839cd4a9-32e0-4b20-b4b9-638eb8e5a71b"
      },
      "outputs": [
        {
          "output_type": "stream",
          "name": "stdout",
          "text": [
            "20\n",
            "2\n"
          ]
        }
      ],
      "source": [
        "num = int(input())\n",
        "arr = []\n",
        "sum = 0\n",
        "count = 0\n",
        "if num > 1:\n",
        "    for i in range(2, num + 2):\n",
        "        for j in range(2, i):\n",
        "            if i % j == 0:\n",
        "                break\n",
        "        else:\n",
        "            arr.append(i)\n",
        "def is_prime(sum):\n",
        "    for i in range(2,sum):\n",
        "        if sum % i == 0:\n",
        "            return False\n",
        "        else:\n",
        "            return True\n",
        "for i in range(0, len(arr)):\n",
        "    sum = sum + arr[i]\n",
        "    if sum <= num:\n",
        "        if is_prime(sum):\n",
        "            count = count + 1\n",
        "\n",
        "print(count)"
      ]
    },
    {
      "cell_type": "code",
      "execution_count": null,
      "metadata": {
        "id": "yuoKf0s6HWRx"
      },
      "outputs": [],
      "source": [
        "n=int(input())\n",
        "arr=list(map(int,input().split()))\n",
        "arr1=arr[:len(arr)//2]\n",
        "arr1.sort()\n",
        "arr2=arr[len(arr)//2:]\n",
        "arr2.sort(reverse=True)\n",
        "print(*(arr1+arr2))"
      ]
    },
    {
      "cell_type": "code",
      "execution_count": null,
      "metadata": {
        "colab": {
          "base_uri": "https://localhost:8080/"
        },
        "id": "gB2rOrt2806N",
        "outputId": "ea7abbdf-49f2-4dbf-d77a-2393693069cd"
      },
      "outputs": [
        {
          "name": "stdout",
          "output_type": "stream",
          "text": [
            "1\n",
            "2\n",
            "3\n",
            "4\n",
            "5\n"
          ]
        }
      ],
      "source": [
        "import numpy as np\n",
        "arr = np.array([1, 2, 3, 4, 5])\n",
        "arr.view()\n",
        "for i in arr:\n",
        "  print(i)\n"
      ]
    },
    {
      "cell_type": "code",
      "execution_count": null,
      "metadata": {
        "colab": {
          "base_uri": "https://localhost:8080/"
        },
        "id": "K2-nl9x2XyHm",
        "outputId": "aec7c48c-eaa0-4946-a1b5-b2ba593c2535"
      },
      "outputs": [
        {
          "name": "stdout",
          "output_type": "stream",
          "text": [
            "5\n",
            "1 2 3 4 5 \n",
            "3\n"
          ]
        }
      ],
      "source": [
        "n=int(input())\n",
        "arr=list(map(int,input().split()))\n",
        "a=0\n",
        "for i in arr:\n",
        "  a=i+a\n",
        "print(a//n)"
      ]
    },
    {
      "cell_type": "code",
      "execution_count": null,
      "metadata": {
        "colab": {
          "base_uri": "https://localhost:8080/"
        },
        "id": "yWcYDeM2zeSP",
        "outputId": "f28d3db5-0626-4d1c-902e-7ded844cf125"
      },
      "outputs": [
        {
          "name": "stdout",
          "output_type": "stream",
          "text": [
            "45\n",
            "3\n"
          ]
        }
      ],
      "source": [
        "#tcs previos question\n",
        "num = int(input())\n",
        "arr = []\n",
        "sum = 0\n",
        "count = 0\n",
        "if num > 1:\n",
        "    for i in range(2, num + 2):\n",
        "        for j in range(2, i):\n",
        "            if i % j == 0:\n",
        "                break\n",
        "        else:\n",
        "            arr.append(i)\n",
        "def is_prime(sum):\n",
        "    for i in range(2, (sum // 2) +2):\n",
        "        if sum % i == 0:\n",
        "            return False\n",
        "        else:\n",
        "            return True\n",
        "for i in range(0, len(arr)):\n",
        "    sum = sum + arr[i]\n",
        "    if sum <= num:\n",
        "        if is_prime(sum):\n",
        "            count = count + 1\n",
        "\n",
        "print(count)"
      ]
    },
    {
      "cell_type": "code",
      "execution_count": null,
      "metadata": {
        "colab": {
          "base_uri": "https://localhost:8080/"
        },
        "id": "C_zFsHBoMKj1",
        "outputId": "c8f99959-8365-4df3-d426-10bbfd690de9"
      },
      "outputs": [
        {
          "name": "stdout",
          "output_type": "stream",
          "text": [
            "********1\n",
            "*******12\n",
            "******123\n",
            "*****1234\n",
            "****12345\n",
            "***123456\n",
            "**1234567\n",
            "*12345678\n",
            "123456789\n"
          ]
        }
      ],
      "source": [
        "n=9\n",
        "for i in range(1,n+1):\n",
        "  for j in range(n-i):\n",
        "    print(\"*\",end=\"\")\n",
        "  for k in range(1,i+1):\n",
        "    print(k,end='')\n",
        "  print()\n"
      ]
    },
    {
      "cell_type": "code",
      "execution_count": null,
      "metadata": {
        "colab": {
          "base_uri": "https://localhost:8080/"
        },
        "id": "sq8Dtv0EZoNH",
        "outputId": "01d5eceb-20e1-41fb-aecd-3661ddf0a928"
      },
      "outputs": [
        {
          "name": "stdout",
          "output_type": "stream",
          "text": [
            "10\n",
            "even\n"
          ]
        }
      ],
      "source": [
        "def num(n):\n",
        "  if n%2==0:\n",
        "    return \"even\"\n",
        "  else:\n",
        "    return \"odd\"\n",
        "m=int(input())\n",
        "print(num(m))"
      ]
    },
    {
      "cell_type": "code",
      "execution_count": null,
      "metadata": {
        "colab": {
          "base_uri": "https://localhost:8080/"
        },
        "id": "LDCLVP3UavM0",
        "outputId": "b25b0f3e-dc23-4d76-c235-92ed1d2e4023"
      },
      "outputs": [
        {
          "name": "stdout",
          "output_type": "stream",
          "text": [
            "1 2 3 4 5 6 7 8 9 70 1 02\n",
            "2\n",
            "4\n",
            "6\n",
            "8\n",
            "70\n",
            "2\n"
          ]
        }
      ],
      "source": [
        "def solve(n):\n",
        "  for i in n:\n",
        "    if i%2==0:\n",
        "      print(i)\n",
        "n=list(map(int,input().split()))\n",
        "solve(n)"
      ]
    },
    {
      "cell_type": "code",
      "execution_count": null,
      "metadata": {
        "colab": {
          "base_uri": "https://localhost:8080/"
        },
        "id": "TYujd67uLLqH",
        "outputId": "39a256fa-c198-49de-9568-331ae895ab24"
      },
      "outputs": [
        {
          "name": "stdout",
          "output_type": "stream",
          "text": [
            "5 true\n",
            "7:00\n"
          ]
        }
      ],
      "source": [
        "k=input()\n",
        "n=k[0]\n",
        "n=int(n)\n",
        "day=k[2:]\n",
        "if day==\"true\":\n",
        "  if n>1 and n<=6:\n",
        "    print(\"7:00\")\n",
        "  else:\n",
        "    print(\"9:00\")\n",
        "else:\n",
        "  if day==\"false\":\n",
        "    if n in range(1,7):\n",
        "      print(\"5:00\")\n",
        "    else:\n",
        "      print(\"6.00\")"
      ]
    },
    {
      "cell_type": "code",
      "source": [
        "n=int(input())\n",
        "k=0\n",
        "for i in range(n,0,-1):\n",
        "  print(\" \"*k,end=\" \")\n",
        "  for j in range(i,0,-1):\n",
        "    print(i,end=\" \")\n",
        "  k+=1\n",
        "  print()\n",
        "a=n-2\n",
        "for i in range(n-1):\n",
        "  print(\" \"*a,end=\" \")\n",
        "  for j in range(i+2):\n",
        "    print(i+2,end=\" \")\n",
        "  a-=1\n",
        "  print()\n",
        "\n"
      ],
      "metadata": {
        "colab": {
          "base_uri": "https://localhost:8080/"
        },
        "id": "6ricqAxxIbtq",
        "outputId": "e3e58063-c3d2-4086-ae6f-407e32cf7420"
      },
      "execution_count": null,
      "outputs": [
        {
          "output_type": "stream",
          "name": "stdout",
          "text": [
            "5\n",
            " 5 5 5 5 5 \n",
            "  4 4 4 4 \n",
            "   3 3 3 \n",
            "    2 2 \n",
            "     1 \n",
            "    2 2 \n",
            "   3 3 3 \n",
            "  4 4 4 4 \n",
            " 5 5 5 5 5 \n"
          ]
        }
      ]
    },
    {
      "cell_type": "code",
      "execution_count": null,
      "metadata": {
        "colab": {
          "base_uri": "https://localhost:8080/",
          "height": 391
        },
        "id": "mBeMoD1wfuA8",
        "outputId": "860c484a-a7f9-4453-e7d1-a5025d891590"
      },
      "outputs": [
        {
          "name": "stdout",
          "output_type": "stream",
          "text": [
            "3\n",
            "1 2 3 4 5 6 7 8 9\n",
            "2\n",
            "4\n"
          ]
        },
        {
          "ename": "UnboundLocalError",
          "evalue": "ignored",
          "output_type": "error",
          "traceback": [
            "\u001b[0;31m---------------------------------------------------------------------------\u001b[0m",
            "\u001b[0;31mUnboundLocalError\u001b[0m                         Traceback (most recent call last)",
            "\u001b[0;32m<ipython-input-14-2b1dd5a0bc78>\u001b[0m in \u001b[0;36m<module>\u001b[0;34m\u001b[0m\n\u001b[1;32m     38\u001b[0m     \u001b[0mgrid\u001b[0m\u001b[0;34m.\u001b[0m\u001b[0mappend\u001b[0m\u001b[0;34m(\u001b[0m\u001b[0minput\u001b[0m\u001b[0;34m(\u001b[0m\u001b[0;34m)\u001b[0m\u001b[0;34m.\u001b[0m\u001b[0mstrip\u001b[0m\u001b[0;34m(\u001b[0m\u001b[0;34m)\u001b[0m\u001b[0;34m)\u001b[0m\u001b[0;34m\u001b[0m\u001b[0;34m\u001b[0m\u001b[0m\n\u001b[1;32m     39\u001b[0m \u001b[0;34m\u001b[0m\u001b[0m\n\u001b[0;32m---> 40\u001b[0;31m \u001b[0mdisplayPathtoPrincess\u001b[0m\u001b[0;34m(\u001b[0m\u001b[0mm\u001b[0m\u001b[0;34m,\u001b[0m\u001b[0mgrid\u001b[0m\u001b[0;34m)\u001b[0m\u001b[0;34m\u001b[0m\u001b[0;34m\u001b[0m\u001b[0m\n\u001b[0m",
            "\u001b[0;32m<ipython-input-14-2b1dd5a0bc78>\u001b[0m in \u001b[0;36mdisplayPathtoPrincess\u001b[0;34m(n, grid)\u001b[0m\n\u001b[1;32m     15\u001b[0m \u001b[0;34m\u001b[0m\u001b[0m\n\u001b[1;32m     16\u001b[0m     \u001b[0;32mwhile\u001b[0m \u001b[0;34m(\u001b[0m\u001b[0mnot_find\u001b[0m\u001b[0;34m)\u001b[0m\u001b[0;34m:\u001b[0m\u001b[0;34m\u001b[0m\u001b[0;34m\u001b[0m\u001b[0m\n\u001b[0;32m---> 17\u001b[0;31m         \u001b[0;32mif\u001b[0m \u001b[0mpos_rowm\u001b[0m \u001b[0;34m<\u001b[0m \u001b[0mpos_rowp\u001b[0m\u001b[0;34m:\u001b[0m\u001b[0;34m\u001b[0m\u001b[0;34m\u001b[0m\u001b[0m\n\u001b[0m\u001b[1;32m     18\u001b[0m             \u001b[0mpos_rowm\u001b[0m \u001b[0;34m=\u001b[0m \u001b[0mpos_rowm\u001b[0m \u001b[0;34m+\u001b[0m \u001b[0;36m1\u001b[0m\u001b[0;34m\u001b[0m\u001b[0;34m\u001b[0m\u001b[0m\n\u001b[1;32m     19\u001b[0m             \u001b[0mprint\u001b[0m \u001b[0;34m(\u001b[0m\u001b[0;34m'DOWN'\u001b[0m\u001b[0;34m)\u001b[0m\u001b[0;34m\u001b[0m\u001b[0;34m\u001b[0m\u001b[0m\n",
            "\u001b[0;31mUnboundLocalError\u001b[0m: local variable 'pos_rowm' referenced before assignment"
          ]
        }
      ],
      "source": [
        "\n",
        "def displayPathtoPrincess(n,grid):\n",
        "    pos_col =\"\"\n",
        "    pos_row = \"\"\n",
        "    not_find = True\n",
        "\n",
        "    for i in range(n):\n",
        "        line = len(grid[i])\n",
        "        for j in range(line):\n",
        "            if grid[i][j] == 'm':\n",
        "                pos_rowm = i\n",
        "                pos_colm = j\n",
        "            elif grid[i][j] == 'p':\n",
        "                pos_rowp= i\n",
        "                pos_colp = j\n",
        "\n",
        "    while (not_find):\n",
        "        if pos_rowm < pos_rowp:\n",
        "            pos_rowm = pos_rowm + 1\n",
        "            print ('DOWN')\n",
        "        elif pos_rowm > pos_rowp:\n",
        "            pos_rowm = pos_row - 1\n",
        "            print ('UP')\n",
        "\n",
        "        if pos_colm < pos_colp:\n",
        "            pos_colm = pos_colm + 1\n",
        "            print ('RIGHT')\n",
        "        elif pos_colm > pos_colp:\n",
        "            pos_colm = pos_colm - 1\n",
        "            print ('LEFT')\n",
        "\n",
        "        if pos_colm == pos_colp and pos_rowm == pos_rowm:\n",
        "            not_find = False\n",
        "\n",
        "#print all the moves here\n",
        "m = int(input())\n",
        "grid = []\n",
        "for i in range(0, m):\n",
        "    grid.append(input().strip())\n",
        "\n",
        "displayPathtoPrincess(m,grid)"
      ]
    },
    {
      "cell_type": "code",
      "execution_count": null,
      "metadata": {
        "colab": {
          "base_uri": "https://localhost:8080/"
        },
        "id": "r_Bdk68TXo0s",
        "outputId": "0383b49d-d2a8-489d-9189-4738ac3932dd"
      },
      "outputs": [
        {
          "name": "stdout",
          "output_type": "stream",
          "text": [
            "[2, 3, 5, 7, 11, 13, 17, 19, 23, 29, 31, 37, 41, 43]\n"
          ]
        }
      ],
      "source": [
        "n=42\n",
        "a=[]\n",
        "for i in range(2,44):\n",
        "  for j in range(2,i):\n",
        "    if i%j==0:\n",
        "      break\n",
        "  else:\n",
        "     a.append(i)\n",
        "print(a)"
      ]
    },
    {
      "cell_type": "code",
      "execution_count": null,
      "metadata": {
        "id": "xH4GUR3Ww5bP"
      },
      "outputs": [],
      "source": []
    },
    {
      "cell_type": "code",
      "execution_count": null,
      "metadata": {
        "colab": {
          "base_uri": "https://localhost:8080/"
        },
        "id": "LBlYJc9Ewfo8",
        "outputId": "c7d842bb-3b15-4485-b765-3ef216d16c2d"
      },
      "outputs": [
        {
          "name": "stdout",
          "output_type": "stream",
          "text": [
            "4\n",
            "\n",
            "\n",
            "\n",
            "\n"
          ]
        }
      ],
      "source": [
        "n=int(input())\n",
        "for i in range(n,0,-1):\n",
        "  for j in range(i):\n",
        "    print(\"*\",end=' ')\n",
        "  print()"
      ]
    },
    {
      "cell_type": "code",
      "execution_count": null,
      "metadata": {
        "colab": {
          "base_uri": "https://localhost:8080/"
        },
        "id": "fFnbbo26wij2",
        "outputId": "1dd25534-288d-487e-fb3c-63493bfd0624"
      },
      "outputs": [
        {
          "name": "stdout",
          "output_type": "stream",
          "text": [
            "4\n",
            "x x x x \n",
            "x x x \n",
            "x x \n",
            "x \n"
          ]
        }
      ],
      "source": [
        "n=int(input())\n",
        "for i in range(1,n+1):\n",
        "  for j in range(i,n+1):\n",
        "    print(\"x\",end=\" \")\n",
        "  print( )\n"
      ]
    },
    {
      "cell_type": "code",
      "execution_count": null,
      "metadata": {
        "colab": {
          "base_uri": "https://localhost:8080/"
        },
        "id": "FdCB2Rt6wisz",
        "outputId": "e641a8eb-95b6-4c0f-a58d-7ed3c75a50ea"
      },
      "outputs": [
        {
          "name": "stdout",
          "output_type": "stream",
          "text": [
            "4 5 7 8 9 1 2 3 6\n",
            "[1, 2, 3, 4, 5, 6, 7, 8, 9]\n"
          ]
        }
      ],
      "source": [
        "arr=list(map(int,input().split()))\n",
        "n=len(arr)\n",
        "for i in range(n):\n",
        "  min=i\n",
        "  for j in range(i+1,n):\n",
        "   if arr[j]<arr[min]:\n",
        "     min=j\n",
        "  (arr[i], arr[min])=(arr[min], arr[i])\n",
        "print(arr)"
      ]
    },
    {
      "cell_type": "code",
      "execution_count": null,
      "metadata": {
        "colab": {
          "base_uri": "https://localhost:8080/"
        },
        "id": "CTiECGPnKQTp",
        "outputId": "577a983a-7155-475c-dfa4-56798a117ca1"
      },
      "outputs": [
        {
          "name": "stdout",
          "output_type": "stream",
          "text": [
            "The array after sorting in Ascending Order by selection sort is:\n",
            "[-202, -97, -9, -2, 0, 11, 45, 88, 747]\n"
          ]
        }
      ],
      "source": [
        "def selectionSort(array, size):\n",
        "    for ind in range(size):\n",
        "        min_index = ind\n",
        "        for j in range(ind + 1, size):\n",
        "            if array[j] < array[min_index]:\n",
        "                min_index = j\n",
        "        (array[ind], array[min_index]) = (array[min_index], array[ind])\n",
        "\n",
        "arr = [-2, 45, 0, 11, -9,88,-97,-202,747]\n",
        "size = len(arr)\n",
        "selectionSort(arr, size)\n",
        "print('The array after sorting :')\n",
        "print(arr)"
      ]
    },
    {
      "cell_type": "code",
      "execution_count": null,
      "metadata": {
        "colab": {
          "base_uri": "https://localhost:8080/"
        },
        "id": "8KIld7-OdZkT",
        "outputId": "d61d33a4-2f3f-4e6d-f03d-33ccfddc0beb"
      },
      "outputs": [
        {
          "name": "stdout",
          "output_type": "stream",
          "text": [
            "2 3 4 5 6 78 9\n",
            "[2, 3, 4, 5, 6, 78, 9]\n",
            "7\n"
          ]
        }
      ],
      "source": [
        "arr = list(map(int, input().split()))\n",
        "print(arr)\n",
        "print(len(arr))"
      ]
    },
    {
      "cell_type": "code",
      "execution_count": null,
      "metadata": {
        "colab": {
          "base_uri": "https://localhost:8080/"
        },
        "id": "KrLlWlpZoC69",
        "outputId": "12072470-6cee-4a97-ee88-d43cc575ee8b"
      },
      "outputs": [
        {
          "name": "stdout",
          "output_type": "stream",
          "text": [
            "7 7 26 28 5 18 27 32 50 13 42 32 11 5 40 27 16 34 23 49 44 17 36 48 10 46 20 13 43 36 1 10 19 29 23 22 20 49 35 15 41 7 29 34 13 23 45 50 31 8 2\n",
            "26 28 5 18 27 32 50 \n",
            "13 42 32 11 5 40 27 \n",
            "16 34 23 49 44 17 36 \n",
            "48 10 46 20 13 43 36 \n",
            "1 10 19 29 23 22 20 \n",
            "49 35 15 41 7 29 34 \n",
            "13 23 45 50 31 8 2 \n"
          ]
        }
      ],
      "source": [
        "arr=list(map(int,input().split()))\n",
        "n=len(arr)\n",
        "r=arr[0]\n",
        "c=arr[1]\n",
        "matrix=[]\n",
        "b=2\n",
        "for i in range(r):\n",
        "  a=[]\n",
        "  for j in range(c):\n",
        "    a.append(arr[b])\n",
        "    b+=1\n",
        "  matrix.append(a)\n",
        "for i in range(r):\n",
        "  for j in range(c):\n",
        "    print(matrix[i][j],end=' ')\n",
        "  print()\n",
        ""
      ]
    },
    {
      "cell_type": "code",
      "execution_count": null,
      "metadata": {
        "colab": {
          "base_uri": "https://localhost:8080/"
        },
        "id": "qcL9pSQkfljo",
        "outputId": "4f1d7dba-55c2-4a89-ecd7-9a5c4cdba38e"
      },
      "outputs": [
        {
          "name": "stdout",
          "output_type": "stream",
          "text": [
            "6\n",
            "no\n"
          ]
        }
      ],
      "source": [
        "n=int(input())\n",
        "for i in range(2,n):\n",
        "  if n%i==0:\n",
        "    print(\"no\")\n",
        "    break\n",
        "else:\n",
        "  print(\"yes\")"
      ]
    },
    {
      "cell_type": "code",
      "execution_count": null,
      "metadata": {
        "colab": {
          "base_uri": "https://localhost:8080/"
        },
        "id": "eiuzAi0awUFx",
        "outputId": "e59a9a38-11a4-4b5f-b1c7-8b45c58a7680"
      },
      "outputs": [
        {
          "name": "stdout",
          "output_type": "stream",
          "text": [
            "7 7 26 28 5 18 27 32 50 13 42 32 11 5 40 27 16 34 23 49 44 17 36 48 10 46 20 13 43 36 1 10 19 29 23 22 20 49 35 15 41 7 29 34 13 23 45 50 31 8 2\n",
            "[[26, 28, 5, 18, 27, 32, 50], [13, 42, 32, 11, 5, 40, 27], [16, 34, 23, 49, 44, 17, 36], [48, 10, 46, 20, 13, 43, 36], [1, 10, 19, 29, 23, 22, 20], [49, 35, 15, 41, 7, 29, 34], [13, 23, 45, 50, 31, 8, 2]]\n"
          ]
        }
      ],
      "source": [
        "row = [int(i) for i in input().split()]\n",
        "n = row[0]\n",
        "row = row[2:]\n",
        "matrix = []\n",
        "for i in range(n):\n",
        "    matrix.append(row[:n])\n",
        "    row = row[n:]\n",
        "print(matrix)"
      ]
    },
    {
      "cell_type": "code",
      "source": [
        "arr1=arr[:n//2]\n",
        "arr2=arr[n//2:]\n"
      ],
      "metadata": {
        "id": "mx7orfhsX_2-"
      },
      "execution_count": null,
      "outputs": []
    },
    {
      "cell_type": "code",
      "execution_count": null,
      "metadata": {
        "colab": {
          "base_uri": "https://localhost:8080/"
        },
        "id": "uZHS0bTMj0ul",
        "outputId": "43478683-5833-4aee-e387-27ea3ed929e3"
      },
      "outputs": [
        {
          "name": "stdout",
          "output_type": "stream",
          "text": [
            "2\n",
            "2\n",
            "3\n",
            "1 2 \n",
            "3\n",
            "20\n",
            "15 2 3 \n"
          ]
        }
      ],
      "source": [
        "t=int(input())\n",
        "for i in range(t):\n",
        "    n=int(input())\n",
        "    p=int(input())\n",
        "    a=[ ]\n",
        "    for j in range(n):\n",
        "        c=0\n",
        "        a.append(c)\n",
        "    for k in range(n):\n",
        "        for x in range(k,n):\n",
        "            a[x]=a[x]+1\n",
        "            p-=1\n",
        "    if p>0:\n",
        "        a[0]=a[0]+p\n",
        "    for i in a:\n",
        "        print(i,end=\" \")\n",
        "    print()"
      ]
    },
    {
      "cell_type": "code",
      "execution_count": null,
      "metadata": {
        "colab": {
          "base_uri": "https://localhost:8080/"
        },
        "id": "LiLoKfI0efut",
        "outputId": "3b9641a1-3757-4c72-888b-e839cba67811"
      },
      "outputs": [
        {
          "name": "stdout",
          "output_type": "stream",
          "text": [
            "2 240 552 4512 12 5 \n",
            "6\n"
          ]
        }
      ],
      "source": [
        "arr = list(map(int, input().split()))\n",
        "n=len(arr)\n",
        "print( n)"
      ]
    },
    {
      "cell_type": "code",
      "execution_count": null,
      "metadata": {
        "colab": {
          "base_uri": "https://localhost:8080/"
        },
        "id": "8jOwPdB4Og7K",
        "outputId": "c81fd713-8a49-4e9b-d0ae-cfa3c9db71c9"
      },
      "outputs": [
        {
          "name": "stdout",
          "output_type": "stream",
          "text": [
            "5\n",
            "xxxxx\n",
            "  xxxx\n",
            "    xxx\n",
            "      xx\n",
            "        x\n"
          ]
        }
      ],
      "source": [
        "n=int(input())\n",
        "for i in range(n,):\n",
        "  for j in range(i*2,0,-1):\n",
        "    print(\" \",end='')\n",
        "  for k in range(n-i,0,-1):\n",
        "    print(\"x\",end='')\n",
        "  print()\n"
      ]
    },
    {
      "cell_type": "code",
      "execution_count": null,
      "metadata": {
        "colab": {
          "base_uri": "https://localhost:8080/"
        },
        "id": "YcuQMn_5qo82",
        "outputId": "7b0848ad-f9ce-44bf-ced0-5bd2d9376774"
      },
      "outputs": [
        {
          "name": "stdout",
          "output_type": "stream",
          "text": [
            "7\n",
            "x     x\n",
            " x   x \n",
            "  x x  \n",
            "   x   \n",
            "  x x  \n",
            " x   x \n",
            "x     x\n"
          ]
        }
      ],
      "source": [
        "#s=input()\n",
        "l=int(input())\n",
        "#if i%2==0:\n",
        "for i in range(l):\n",
        "   j=l-i-1\n",
        "   for k in range(l):\n",
        "     if k==i or k==j:\n",
        "       print(\"x\",end='')\n",
        "     else:\n",
        "         print(end=\" \")\n",
        "   print()\n"
      ]
    },
    {
      "cell_type": "code",
      "execution_count": null,
      "metadata": {
        "id": "PbEoBwRr3Zw3"
      },
      "outputs": [],
      "source": [
        "arr=list(map(int,input().split()))\n",
        "n=len(arr)\n",
        "r=arr[0]\n",
        "c=arr[1]\n",
        "matrix=[]\n",
        "b=2\n",
        "mi=0\n",
        "mc=0\n",
        "pi=0\n",
        "pc=0\n",
        "for i in range(r):\n",
        "  a=[]\n",
        "  for j in range(c):\n",
        "    a.append(arr[b])\n",
        "    b+=1\n",
        "  matrix.append(a)\n",
        "for i in range(len(matrix)):\n",
        "  for j in range(len(matrix)):\n",
        "    if matrix[i][j]==\"1\":\n",
        "      mi=i\n",
        "      mc=j\n",
        "for i in range(len(matrix)):\n",
        "  for j in range(len(matrix)):\n",
        "    if matrix[i][j]==\"2\":\n",
        "      pi=i\n",
        "      pc=j\n",
        "while mi==pi:\n",
        "  if mi<pi:\n",
        "    print(\"down\")\n",
        "    mi+=1\n",
        "  else:\n",
        "    print(\"up\")\n",
        "    mi-=1\n",
        "while mc==pc:\n",
        "  if mc<pc:\n",
        "    print(\"right\")\n",
        "    mc+=1\n",
        "  else:\n",
        "    print(\"left\")\n",
        "    mc-=1\n",
        ""
      ]
    },
    {
      "cell_type": "markdown",
      "metadata": {
        "id": "mFQaWsWQ-Owl"
      },
      "source": [
        "1 0 0 0 0 0 0 0 0 0 0 0 0 0 0 0 0 0 0 0 0 0 0 0 2"
      ]
    },
    {
      "cell_type": "code",
      "execution_count": null,
      "metadata": {
        "colab": {
          "base_uri": "https://localhost:8080/"
        },
        "id": "MfYwiqJ_pxOv",
        "outputId": "b890e679-bf0b-4c3a-e494-ddd065fcd3fc"
      },
      "outputs": [
        {
          "name": "stdout",
          "output_type": "stream",
          "text": [
            "4\n",
            "* \n",
            "* * \n",
            "* * * \n",
            "* * * * \n"
          ]
        }
      ],
      "source": [
        "n=int(input())\n",
        "for i in range(1,n+1):\n",
        "  for j in range(i):\n",
        "    print(\"*\",end=\" \")\n",
        "  print()"
      ]
    },
    {
      "cell_type": "code",
      "execution_count": null,
      "metadata": {
        "colab": {
          "base_uri": "https://localhost:8080/"
        },
        "id": "5M815-B4rBY9",
        "outputId": "ece2bb99-6411-4f16-f755-0e66ab4641f2"
      },
      "outputs": [
        {
          "name": "stdout",
          "output_type": "stream",
          "text": [
            "5\n",
            "    * \n",
            "   * * \n",
            "  * * * \n",
            " * * * * \n",
            "* * * * * \n"
          ]
        }
      ],
      "source": [
        "n=int(input())\n",
        "k=n-1\n",
        "for i in range(n):\n",
        "  for j in range(k):\n",
        "    print(end=\" \")\n",
        "  k-=1\n",
        "  for i in range(0,i+1):\n",
        "    print(\"*\",end=' ')\n",
        "  print()\n",
        ""
      ]
    },
    {
      "cell_type": "code",
      "source": [
        "n=int(input())\n",
        "for i in range(1,n+1):\n",
        "  print(((n-i))*\" \",\"* \"*i,end=\" \")\n",
        "  print()"
      ],
      "metadata": {
        "colab": {
          "base_uri": "https://localhost:8080/"
        },
        "id": "9Np4pD3eCAZ8",
        "outputId": "5aa16d84-0aba-4155-c9b9-f8cc253674b9"
      },
      "execution_count": null,
      "outputs": [
        {
          "output_type": "stream",
          "name": "stdout",
          "text": [
            "5\n",
            "     *  \n",
            "    * *  \n",
            "   * * *  \n",
            "  * * * *  \n",
            " * * * * *  \n"
          ]
        }
      ]
    },
    {
      "cell_type": "code",
      "execution_count": null,
      "metadata": {
        "colab": {
          "base_uri": "https://localhost:8080/"
        },
        "id": "6KUKt7qLtU89",
        "outputId": "2ac97685-0017-479e-8841-a842ea46cfca"
      },
      "outputs": [
        {
          "name": "stdout",
          "output_type": "stream",
          "text": [
            "4\n",
            "xxxx\n",
            "xxx\n",
            "xx\n",
            "x\n"
          ]
        }
      ],
      "source": [
        "n=int(input())\n",
        "for i in range(n):\n",
        "   for k in range(n-i,0,-1):\n",
        "    print(\"x\",end='')\n",
        "   print()\n"
      ]
    },
    {
      "cell_type": "code",
      "execution_count": null,
      "metadata": {
        "colab": {
          "base_uri": "https://localhost:8080/"
        },
        "id": "mIjaKGpEwOgP",
        "outputId": "baa139f9-0706-43aa-bff3-f2d876aa513b"
      },
      "outputs": [
        {
          "output_type": "stream",
          "name": "stdout",
          "text": [
            "6\n",
            "     * \n",
            "    * * \n",
            "   *   * \n",
            "  *     * \n",
            " *       * \n",
            "* * * * * * \n"
          ]
        }
      ],
      "source": [
        "num = int(input())\n",
        "for i in range(1,num+1):\n",
        "    for j in range(num,i,-1):\n",
        "        print(\" \",end=\"\")\n",
        "    for j in range(1,i+1):\n",
        "        if (i == num):\n",
        "            print(\"*\",end=\" \")\n",
        "        elif(j == 1 or j == i):\n",
        "            print(\"*\",end=\" \")\n",
        "        else:\n",
        "            print(\" \",end=\" \")\n",
        "    print()"
      ]
    },
    {
      "cell_type": "code",
      "source": [
        "n=int(input())\n",
        "for i in range(n):\n",
        "  x, y = [int(x) for x in input(\"Enter two values: \").split()]\n",
        "  d=math.sqrt()\n",
        "\n"
      ],
      "metadata": {
        "id": "PbXmeiLhgha8"
      },
      "execution_count": null,
      "outputs": []
    },
    {
      "cell_type": "code",
      "execution_count": null,
      "metadata": {
        "colab": {
          "base_uri": "https://localhost:8080/"
        },
        "id": "7Sa347W9YuDu",
        "outputId": "3db83091-c811-497e-c372-4454e4611fc9"
      },
      "outputs": [
        {
          "name": "stdout",
          "output_type": "stream",
          "text": [
            "10\n",
            "3628800\n"
          ]
        }
      ],
      "source": [
        "def fact(n):\n",
        "  if n==0:\n",
        "    return 1\n",
        "  else:\n",
        "    return n* fact(n-1) #function with recursion\n",
        "n=int(input())          # recursion means calling finction more than two times\n",
        "if n==0:                # in above case we call function i.e fact(n) more than two times\n",
        "  print(\"1\")\n",
        "elif n==1:\n",
        "  print(\"1\")\n",
        "elif n>1:\n",
        "  print(fact(n))\n",
        "\n"
      ]
    },
    {
      "cell_type": "code",
      "source": [
        "a=list(map(int,input().split))"
      ],
      "metadata": {
        "id": "T8ivX6IqWAma"
      },
      "execution_count": null,
      "outputs": []
    },
    {
      "cell_type": "code",
      "execution_count": null,
      "metadata": {
        "colab": {
          "base_uri": "https://localhost:8080/"
        },
        "id": "ZZbg9yasmLGY",
        "outputId": "2fcc280e-86bb-4081-b2e7-39e69c3a6c67"
      },
      "outputs": [
        {
          "name": "stdout",
          "output_type": "stream",
          "text": [
            "1 4 6 7 9\n",
            "2 3 5 8 11 12 13 \n",
            "[1, 2, 3, 4, 5, 6, 7, 8, 9, 11, 12, 13]\n"
          ]
        }
      ],
      "source": [
        "#merging of two sorted array\n",
        "a=list(map(int,input().split()))  #a is sorted array is taken as input from user\n",
        "b=list(map(int,input().split()))  #b \"\"                                        \"\n",
        "c=[]                               #c is list to store the final merg list\n",
        "n1=len(a)\n",
        "n2=len(b)\n",
        "i=0\n",
        "j=0\n",
        "while i<n1 and j<n2:\n",
        "  if a[i]<b[j]:\n",
        "    c.append(a[i])\n",
        "    i+=1\n",
        "  else:\n",
        "    c.append(b[j])\n",
        "    j+=1\n",
        "while i<n1:\n",
        "  c.append(a[i])\n",
        "  i+=1\n",
        "while j<n2:\n",
        "  c.append(b[j])\n",
        "  j+=1\n",
        "print(c)"
      ]
    },
    {
      "cell_type": "code",
      "execution_count": null,
      "metadata": {
        "colab": {
          "base_uri": "https://localhost:8080/"
        },
        "id": "Y_O7JKU6o7Wd",
        "outputId": "7d2cfb4f-db05-489f-9751-d1cd5c1ec09d"
      },
      "outputs": [
        {
          "name": "stdout",
          "output_type": "stream",
          "text": [
            "14 42 6596 65252 5 8 6 747 84\n",
            "[14, 42, 6596, 65252]\n",
            "[5, 8, 6, 747, 84]\n"
          ]
        }
      ],
      "source": [
        "arr=list(map(int,input().split()))\n",
        "n=len(arr)\n",
        "b1=[]\n",
        "b2=[]\n",
        "for i in range(0,n//2):\n",
        "  b1.append(arr[i])\n",
        "for j in range(n//2,n):\n",
        "  b2.append(arr[j])\n",
        "print(b1)\n",
        "print(b2)"
      ]
    },
    {
      "cell_type": "code",
      "execution_count": null,
      "metadata": {
        "colab": {
          "base_uri": "https://localhost:8080/"
        },
        "id": "TdKsPJ3-bpeO",
        "outputId": "9ff8fff7-477c-4de7-9f2c-886ca8a3dc46"
      },
      "outputs": [
        {
          "name": "stdout",
          "output_type": "stream",
          "text": [
            "Sorted array is: \n",
            "1 5 6 9 10 12 \n"
          ]
        }
      ],
      "source": [
        "# MergeSort in Python\n",
        "\n",
        "\n",
        "def mergeSort(array):\n",
        "    if len(array) > 1:\n",
        "        r = len(array)//2\n",
        "        L = array[:r]\n",
        "        M = array[r:]\n",
        "        mergeSort(L)\n",
        "        mergeSort(M)\n",
        "        i = j = k = 0\n",
        "        while i < len(L) and j < len(M):\n",
        "            if L[i] < M[j]:\n",
        "                array[k] = L[i]\n",
        "                i += 1\n",
        "            else:\n",
        "                array[k] = M[j]\n",
        "                j += 1\n",
        "            k += 1\n",
        "        while i < len(L):\n",
        "            array[k] = L[i]\n",
        "            i += 1\n",
        "            k += 1\n",
        "\n",
        "        while j < len(M):\n",
        "            array[k] = M[j]\n",
        "            j += 1\n",
        "            k += 1\n",
        "def printList(array):\n",
        "    for i in range(len(array)):\n",
        "        print(array[i], end=\" \")\n",
        "    print()\n",
        "if __name__ == '__main__':\n",
        "    array = [6, 5, 12, 10, 9, 1]\n",
        "\n",
        "    mergeSort(array)\n",
        "\n",
        "    print(\"Sorted array is: \")\n",
        "    printList(array)"
      ]
    },
    {
      "cell_type": "code",
      "execution_count": null,
      "metadata": {
        "colab": {
          "base_uri": "https://localhost:8080/"
        },
        "id": "M6CpSmdphdQA",
        "outputId": "532c3be9-f1d9-4ccd-dbb5-d0c1c42c255a"
      },
      "outputs": [
        {
          "name": "stdout",
          "output_type": "stream",
          "text": [
            "9 -6 6 10 1 -3 -8 -3 -8 -2\n",
            "len of list [9] is 1\n",
            "len of list [-6] is 1\n",
            "len of list [10] is 1\n",
            "len of list [1] is 1\n",
            "len of list [6] is 1\n",
            "len of list [10, 1] is 2\n",
            "len of list [9, -6] is 2\n",
            "len of list [6, 10, 1] is 3\n",
            "len of list [-3] is 1\n",
            "len of list [-8] is 1\n",
            "len of list [-8] is 1\n",
            "len of list [-2] is 1\n",
            "len of list [-3] is 1\n",
            "len of list [-8, -2] is 2\n",
            "len of list [-3, -8] is 2\n",
            "len of list [-3, -8, -2] is 3\n",
            "len of list [9, -6, 6, 10, 1] is 5\n",
            "len of list [-3, -8, -3, -8, -2] is 5\n"
          ]
        }
      ],
      "source": [
        "#spliting of array into single arr\n",
        "def MergeSort(A):\n",
        "    p=0\n",
        "    r=len(A)\n",
        "    if len(A) > 1 :\n",
        "      q = (p+r)//2\n",
        "      l=A[p:q]\n",
        "      r=A[q:r]\n",
        "      MergeSort(l)\n",
        "      MergeSort(r)\n",
        "      print(f\"len of list {l} is {(len(l))}\")\n",
        "      print(f\"len of list {r} is {len(r)}\")\n",
        "A=list(map(int,input().split()))\n",
        "MergeSort(A)\n"
      ]
    },
    {
      "cell_type": "code",
      "source": [
        "c='loki'+ \\ 'konakalla'\n",
        "print(c)"
      ],
      "metadata": {
        "colab": {
          "base_uri": "https://localhost:8080/",
          "height": 131
        },
        "id": "4_5NC0mjD3Kd",
        "outputId": "989603bf-6491-4ac1-d657-70cd3cebad98"
      },
      "execution_count": null,
      "outputs": [
        {
          "output_type": "error",
          "ename": "SyntaxError",
          "evalue": "ignored",
          "traceback": [
            "\u001b[0;36m  File \u001b[0;32m\"<ipython-input-7-235b509dee36>\"\u001b[0;36m, line \u001b[0;32m1\u001b[0m\n\u001b[0;31m    c='loki'+ \\ 'konakalla'\u001b[0m\n\u001b[0m                           ^\u001b[0m\n\u001b[0;31mSyntaxError\u001b[0m\u001b[0;31m:\u001b[0m unexpected character after line continuation character\n"
          ]
        }
      ]
    },
    {
      "cell_type": "code",
      "execution_count": null,
      "metadata": {
        "colab": {
          "base_uri": "https://localhost:8080/"
        },
        "id": "WKSJwkg7vg89",
        "outputId": "3b331212-b068-4b9b-83f8-1c40972beb69"
      },
      "outputs": [
        {
          "name": "stdout",
          "output_type": "stream",
          "text": [
            "9 -6 6 10 1 -3 -8 -3 -8 -2\n",
            "-2\n",
            "[-6, -3, -8, -3, -8, -2, 6, 10, 1, 9]\n"
          ]
        }
      ],
      "source": [
        "# partition of array using pivoit\n",
        "arr=list(map(int,input().split()))\n",
        "pivoit=int(input())\n",
        "n=len(arr)\n",
        "i=-1\n",
        "j=0\n",
        "while j<n:\n",
        "  if arr[j]>pivoit:\n",
        "    j+=1\n",
        "  else:\n",
        "    i+=1\n",
        "    arr[i],arr[j]=arr[j],arr[i]\n",
        "    j+=1\n",
        "print(arr)"
      ]
    },
    {
      "cell_type": "code",
      "execution_count": null,
      "metadata": {
        "colab": {
          "base_uri": "https://localhost:8080/"
        },
        "id": "2zv51M7txLZc",
        "outputId": "6bfe1645-3d46-4e64-9059-97ee068382b4"
      },
      "outputs": [
        {
          "name": "stdout",
          "output_type": "stream",
          "text": [
            "1\n"
          ]
        }
      ],
      "source": [
        "st=10\n",
        "if st in range(10):\n",
        "  print(\"0\")\n",
        "else:\n",
        "  print(\"1\")\n"
      ]
    },
    {
      "cell_type": "code",
      "execution_count": null,
      "metadata": {
        "colab": {
          "base_uri": "https://localhost:8080/"
        },
        "id": "4w-w0GyznYRT",
        "outputId": "a434af3b-9c6d-4fa9-afeb-04613a22e6ba"
      },
      "outputs": [
        {
          "name": "stdout",
          "output_type": "stream",
          "text": [
            "LoKEsH\n",
            "lOkeSh\n"
          ]
        }
      ],
      "source": [
        "s=str(input())\n",
        "newstring=\"\"\n",
        "for a in s:\n",
        " if (a.isupper()) == True:\n",
        "   newstring += (a.lower())\n",
        " else:\n",
        "   newstring += (a.upper())\n",
        "print(newstring)\n"
      ]
    },
    {
      "cell_type": "code",
      "source": [],
      "metadata": {
        "id": "KoDG-8w-GOu_"
      },
      "execution_count": null,
      "outputs": []
    },
    {
      "cell_type": "code",
      "execution_count": null,
      "metadata": {
        "colab": {
          "base_uri": "https://localhost:8080/"
        },
        "id": "4GY-Za4HxXW1",
        "outputId": "92850b28-28a4-4f1c-eaae-d01876d314a1"
      },
      "outputs": [
        {
          "name": "stdout",
          "output_type": "stream",
          "text": [
            "7\n",
            "28.\n",
            "27.21.\n",
            "26.20.15.\n",
            "25.19.14.10.\n",
            "24.18.13.9.6.\n",
            "23.17.12.8.5.3.\n",
            "22.16.11.7.4.2.1.\n"
          ]
        }
      ],
      "source": [
        "def solve(n):\n",
        "    # write your code here\n",
        "    k=(n+1)\n",
        "    for row in range(n):\n",
        "        val=k-row\n",
        "        dec=n-1\n",
        "        for col in range(row+1):\n",
        "            print(val,end='')\n",
        "            val=int(val-dec)\n",
        "            dec=dec-1\n",
        "            print(\".\",end='')\n",
        "        print()\n",
        "n=int(input())\n",
        "solve(n)"
      ]
    },
    {
      "cell_type": "code",
      "source": [
        "arr=list(map(int,input().split()))\n",
        "arr2=[]\n",
        "[arr2.append(i) for i in arr and if i not arr2]\n",
        "print(*arr2)"
      ],
      "metadata": {
        "colab": {
          "base_uri": "https://localhost:8080/",
          "height": 131
        },
        "id": "nNbIH63SCu98",
        "outputId": "f679a26b-43eb-4051-a8f2-6b0bcb03128a"
      },
      "execution_count": null,
      "outputs": [
        {
          "output_type": "error",
          "ename": "SyntaxError",
          "evalue": "ignored",
          "traceback": [
            "\u001b[0;36m  File \u001b[0;32m\"<ipython-input-5-96522988f2fa>\"\u001b[0;36m, line \u001b[0;32m3\u001b[0m\n\u001b[0;31m    [arr2.append(i) for i in arr and if i not arr2]\u001b[0m\n\u001b[0m                                     ^\u001b[0m\n\u001b[0;31mSyntaxError\u001b[0m\u001b[0;31m:\u001b[0m invalid syntax\n"
          ]
        }
      ]
    },
    {
      "cell_type": "code",
      "execution_count": null,
      "metadata": {
        "colab": {
          "base_uri": "https://localhost:8080/"
        },
        "id": "ohuJTq1UZi1H",
        "outputId": "cb05abd7-2f86-479a-ad57-ba2d90e03f04"
      },
      "outputs": [
        {
          "name": "stdout",
          "output_type": "stream",
          "text": [
            "* * * \n",
            "* * * \n",
            "* * * \n"
          ]
        }
      ],
      "source": [
        "n=3\n",
        "for i in range(n):\n",
        "  for j in range(n):\n",
        "    print(\"*\",end=\" \")\n",
        "  print()"
      ]
    },
    {
      "cell_type": "code",
      "execution_count": null,
      "metadata": {
        "colab": {
          "base_uri": "https://localhost:8080/"
        },
        "id": "F3FbzL6QafHK",
        "outputId": "fe57ad59-abd8-45c9-9c1b-a18359592adb"
      },
      "outputs": [
        {
          "name": "stdout",
          "output_type": "stream",
          "text": [
            "enter no of rows3\n",
            "* \n",
            "* * \n",
            "* * * \n"
          ]
        }
      ],
      "source": [
        "n=int(input(\"enter no of rows\"))\n",
        "for i in range(1,n+1):\n",
        "  for j in range(i):\n",
        "    print(\"*\",end=\" \")\n",
        "  print()"
      ]
    },
    {
      "cell_type": "code",
      "execution_count": null,
      "metadata": {
        "colab": {
          "base_uri": "https://localhost:8080/"
        },
        "id": "Wj1sYh_qbF2t",
        "outputId": "ea2af442-f40e-4bf0-cddf-54965404868b"
      },
      "outputs": [
        {
          "name": "stdout",
          "output_type": "stream",
          "text": [
            "enter no of rows3\n",
            "* \n",
            "* 1 * \n",
            "* 1 * 2 2 * \n"
          ]
        }
      ],
      "source": [
        "n=int(input(\"enter no of rows\"))\n",
        "for i in range(1,n+1):\n",
        "  for j in range(i):\n",
        "    for k in range(j):\n",
        "      print(j,end=\" \")\n",
        "    print(\"*\",end=\" \")\n",
        "  print()"
      ]
    },
    {
      "cell_type": "code",
      "execution_count": null,
      "metadata": {
        "colab": {
          "base_uri": "https://localhost:8080/"
        },
        "id": "iWlrBQhWj9yj",
        "outputId": "e7c46ef6-473f-46e9-c6c7-5416a03b698a"
      },
      "outputs": [
        {
          "name": "stdout",
          "output_type": "stream",
          "text": [
            "4\n",
            "1\n",
            "2\n",
            "3\n",
            "4\n"
          ]
        }
      ],
      "source": [
        "n=int(input())\n",
        "B=[]\n",
        "for i in range(n):\n",
        "  A=int(input())\n",
        "  B.append(A)\n",
        "print(*B)\n",
        ""
      ]
    },
    {
      "cell_type": "code",
      "execution_count": null,
      "metadata": {
        "colab": {
          "base_uri": "https://localhost:8080/"
        },
        "id": "4SQu3hFVkrg2",
        "outputId": "c07f8f08-595e-45b7-b72b-0e63be0655d6"
      },
      "outputs": [
        {
          "name": "stdout",
          "output_type": "stream",
          "text": [
            "5 2 3 9 4 5 2 2 4 10\n",
            "2 3 4 5 9 10 5 4 2 2\n"
          ]
        }
      ],
      "source": [
        "arr=list(map(int,input().split()))\n",
        "arr1=[]\n",
        "arr2=[]\n",
        "a=len(arr)//2\n",
        "for i in range(a):\n",
        "  arr1.append(arr[i])\n",
        "for i in range(a,len(arr)):\n",
        "  arr2.append(arr[i])\n",
        "for i in range(len(arr1)):\n",
        "  for j in range(i+1,len(arr1)):\n",
        "    if arr1[i]>arr1[j]:\n",
        "      arr1[i],arr1[j]=arr1[j],arr1[i]\n",
        "print(*arr1,end=\" \")\n",
        "for i in range(len(arr2)):\n",
        "  for j in range(i+1,len(arr2)):\n",
        "    if arr2[i]<arr2[j]:\n",
        "      arr2[i],arr2[j]=arr2[j],arr2[i]\n",
        "print(*arr2)\n",
        "\n"
      ]
    },
    {
      "cell_type": "code",
      "execution_count": null,
      "metadata": {
        "colab": {
          "base_uri": "https://localhost:8080/"
        },
        "id": "Gb3ojlwyMftG",
        "outputId": "0c4b8586-ebeb-4cc0-f9db-799b6b8c1f01"
      },
      "outputs": [
        {
          "name": "stdout",
          "output_type": "stream",
          "text": [
            "5\n",
            "1 2 3 4 5 6 7 8 91 0 21 5 2 5 9 10 0 11 2 1\n",
            "[1, 2, 3, 4, 5, 6, 7, 8, 91, 0, 21, 9, 10, 11]\n"
          ]
        }
      ],
      "source": [
        "n=int(input())\n",
        "arr=list(map(int,input().split()))\n",
        "B=[]\n",
        "[B.append(i) for i in arr if i not in B]\n",
        "print(B)"
      ]
    },
    {
      "cell_type": "code",
      "execution_count": null,
      "metadata": {
        "colab": {
          "base_uri": "https://localhost:8080/"
        },
        "id": "aHHFA8feLN6T",
        "outputId": "a37b298f-9196-432a-c2d1-3f5f779f8964"
      },
      "outputs": [
        {
          "name": "stdout",
          "output_type": "stream",
          "text": [
            "1 2 3\n",
            "\n",
            "4 5 6\n",
            "['1', '2', '3'] [] ['4', '5', '6']\n"
          ]
        }
      ],
      "source": [
        "co=[]\n",
        "for i in range(3):co.append(list(input().split()))\n",
        "print(*co)"
      ]
    },
    {
      "cell_type": "code",
      "execution_count": null,
      "metadata": {
        "colab": {
          "background_save": true,
          "base_uri": "https://localhost:8080/"
        },
        "id": "1Ob3oO9fMDtZ",
        "outputId": "0943a518-0c30-4112-a1d2-cbe42ef2c1fd"
      },
      "outputs": [
        {
          "name": "stdout",
          "output_type": "stream",
          "text": [
            "0\n",
            "0\n",
            "0\n",
            "['{', '{', '{', '(']\n"
          ]
        }
      ],
      "source": [
        "s=str(input())\n",
        "open=[\"[\",\"(\",\"{\"]\n",
        "close=[\"]\",\")\",\"}\"]\n",
        "top=-1\n",
        "A=[]\n",
        "for i in s:\n",
        "  if i in open:\n",
        "    A.append(i)\n",
        "    top+=1\n",
        "  elif i in close:\n",
        "    pos=close.index(i)\n",
        "    if    len(A)==0 or open[pos]!=A[top]:\n",
        "      print(\"0\")\n",
        "    else:\n",
        "      A.pop()\n",
        "      top-=1\n",
        "print(A)"
      ]
    },
    {
      "cell_type": "code",
      "execution_count": null,
      "metadata": {
        "colab": {
          "base_uri": "https://localhost:8080/"
        },
        "id": "ZJc06bQ_sgPv",
        "outputId": "61e12bc7-f31a-458a-a7c1-dc99b89f2082"
      },
      "outputs": [
        {
          "name": "stdout",
          "output_type": "stream",
          "text": [
            "5\n",
            "1 2 3 4 52 11 2 5 3 1 8 6  \n"
          ]
        },
        {
          "data": {
            "text/plain": [
              "[None, None, None, None, None, None, None, None, None]"
            ]
          },
          "execution_count": 1,
          "metadata": {},
          "output_type": "execute_result"
        }
      ],
      "source": [
        "n=int(input())\n",
        "arr=list(map(int,input().split()))\n",
        "A=[]\n",
        "[A.append(i) for i in arr if i not in A]\n",
        "print(A)"
      ]
    },
    {
      "cell_type": "code",
      "execution_count": null,
      "metadata": {
        "id": "DW6Lkm-44DV8"
      },
      "outputs": [],
      "source": [
        "a=10\n",
        "b=10\n",
        "print(f\"sum of {a} an\")"
      ]
    },
    {
      "cell_type": "code",
      "execution_count": null,
      "metadata": {
        "id": "Y8OMdouACfAP"
      },
      "outputs": [],
      "source": [
        "def solve(arr,target):\n",
        "    if target in arr:\n",
        "        k=arr.index(target)\n",
        "        A.append(k)\n",
        "        arr.pop(k)\n",
        "    solve(arr,target)\n",
        "arr=list(map(int,input().split()))\n",
        "target=int(input())\n",
        "A=[]\n",
        "solve(arr,target)\n",
        "print(*A)"
      ]
    },
    {
      "cell_type": "code",
      "execution_count": null,
      "metadata": {
        "colab": {
          "base_uri": "https://localhost:8080/"
        },
        "id": "YrUXzWK_D3nZ",
        "outputId": "40e4db62-0ef4-490f-d72a-e6350d0cfbc2"
      },
      "outputs": [
        {
          "name": "stdout",
          "output_type": "stream",
          "text": [
            "1 2 3 4 5 5 5 5 6 7 8\n",
            "5\n",
            "4 7\n"
          ]
        }
      ],
      "source": [
        "def solve(arr,a):\n",
        "  if a in arr:\n",
        "    k=arr.index(a)\n",
        "    A.append(k)\n",
        "    arr.remove(a)\n",
        "    solve(arr,a)\n",
        "\n",
        "arr=list(map(int,input().split()))\n",
        "A=[]\n",
        "a=int(input())\n",
        "solve(arr,a)\n",
        "b=A[0]+len(A)-1\n",
        "print(A[0],end=\" \")\n",
        "print(b)"
      ]
    },
    {
      "cell_type": "code",
      "execution_count": null,
      "metadata": {
        "colab": {
          "base_uri": "https://localhost:8080/"
        },
        "id": "dkb_WyZAIz6y",
        "outputId": "8ae90774-7e19-4c4d-d387-a4ac7f56805e"
      },
      "outputs": [
        {
          "name": "stdout",
          "output_type": "stream",
          "text": [
            "5\n",
            "\n",
            "1 \n",
            "  \n",
            "3 3 3 \n",
            "    \n",
            "5 5 5 5 5 \n",
            "      \n",
            "7 7 7 7 7 7 7 \n",
            "        \n",
            "9 9 9 9 9 9 9 9 9 \n"
          ]
        }
      ],
      "source": [
        "n=int(input())\n",
        "for i in range(0,n*2):\n",
        "  for k in range(0,i):\n",
        "      if i%2==0:\n",
        "        print(end=\" \")\n",
        "      else:\n",
        "        print(i,end=\" \")\n",
        "  print()"
      ]
    },
    {
      "cell_type": "markdown",
      "metadata": {
        "id": "GGiN4aHRFqB1"
      },
      "source": [
        "n=int(input())\n",
        "for i in range(1,n+1):\n",
        "  for j in range(1,n-i+1):\n",
        "    print(\" \",end=\"t\")\n",
        "  for j in range(1,2*i):\n",
        "    if j==1 or j==2*i-1:\n",
        "      print(\"*\",end=\"\")\n",
        "    else:\n",
        "      print(\" \",end=\"\")\n",
        "  print()\n",
        "for i in range(n-1,0,-1):\n",
        "  for j in range(1,n-i+1):\n",
        "    print(\" \",end=\"\")\n",
        "  for j in range(1,2*i):\n",
        "    if j==1 or j==2*i-1:\n",
        "      print(\"*\",end=\"\")\n",
        "    else:\n",
        "      print(\" \",end=\"\")\n",
        "  print()\n"
      ]
    },
    {
      "cell_type": "code",
      "execution_count": null,
      "metadata": {
        "colab": {
          "base_uri": "https://localhost:8080/",
          "height": 132
        },
        "id": "kS1YUqvdPv7f",
        "outputId": "146353b6-0e56-4542-ad09-65375187b928"
      },
      "outputs": [
        {
          "ename": "SyntaxError",
          "evalue": "ignored",
          "output_type": "error",
          "traceback": [
            "\u001b[0;36m  File \u001b[0;32m\"<ipython-input-1-f44110746639>\"\u001b[0;36m, line \u001b[0;32m20\u001b[0m\n\u001b[0;31m    else:\u001b[0m\n\u001b[0m       ^\u001b[0m\n\u001b[0;31mSyntaxError\u001b[0m\u001b[0;31m:\u001b[0m invalid syntax\n"
          ]
        }
      ],
      "source": [
        "n=input()\n",
        "ans=\"\"\n",
        "l=['1','2','3','4','5','6','7','8','9','0']\n",
        "for i in n:\n",
        "  if i in l:\n",
        "    ans=ans + i\n",
        "ans=str(ans)\n",
        "ans=list(ans)\n",
        "ans.sort(reverse=True)\n",
        "if int(ans[-1])%2==0:\n",
        "  print(ans)\n",
        "else:\n",
        "  for digit in range(len(ans)-1):\n",
        "    if int(ans[digit])%2==0:\n",
        "      smallest=ans[digit]\n",
        "    else:\n",
        "      print(\"-1\")\n",
        "\n",
        "  ans.remove(smallest)\n",
        "  ans.append(smallest)\n",
        "  for i in ans:\n",
        "    print(i,end=\"\")\n"
      ]
    },
    {
      "cell_type": "code",
      "execution_count": null,
      "metadata": {
        "colab": {
          "base_uri": "https://localhost:8080/"
        },
        "id": "vboBmW4L78-P",
        "outputId": "b1e9ede6-915e-4ab1-a612-95931c803cbc"
      },
      "outputs": [
        {
          "name": "stdout",
          "output_type": "stream",
          "text": [
            "1 5 2 3 4 6 9 8 7 1\n",
            "[1, 1, 2, 3, 4, 5, 6, 7, 8, 9]\n"
          ]
        }
      ],
      "source": [
        "a=list(map(int,input().split()))\n",
        "a.sort()\n",
        "print(a)"
      ]
    },
    {
      "cell_type": "code",
      "execution_count": null,
      "metadata": {
        "colab": {
          "base_uri": "https://localhost:8080/"
        },
        "id": "auVPTP9u-7VC",
        "outputId": "83ed4568-bc02-43f9-c775-9519fd9aaa69"
      },
      "outputs": [
        {
          "name": "stdout",
          "output_type": "stream",
          "text": [
            "5 4 2 1\n",
            "2\n",
            "5412"
          ]
        }
      ],
      "source": [
        "ans=list(map(int,input().split()))\n",
        "for digit in range(len(ans)-1):\n",
        "   if int(ans[digit])%2==0:\n",
        "     smallest=ans[digit]\n",
        "print(smallest)\n",
        "ans.remove(smallest)\n",
        "ans.append(smallest)\n",
        "for i in ans:\n",
        "  print(i,end=\"\")"
      ]
    },
    {
      "cell_type": "code",
      "execution_count": null,
      "metadata": {
        "colab": {
          "base_uri": "https://localhost:8080/"
        },
        "id": "RUCsV4dtnv5L",
        "outputId": "edd08f1d-0f8a-4bf0-84e0-8014cdafcccf"
      },
      "outputs": [
        {
          "name": "stdout",
          "output_type": "stream",
          "text": [
            "0123456789\n",
            "0 2 6 12 56 "
          ]
        }
      ],
      "source": [
        "n=input()\n",
        "l=list(n)\n",
        "for i in range(len(l)):\n",
        "  l[i]=int(l[i])\n",
        "for i in range(len(l)-1):\n",
        "  k=l[i]*l[i+1]\n",
        "  if str(k) in n:\n",
        "    print(k,end=\" \")\n"
      ]
    },
    {
      "cell_type": "code",
      "execution_count": null,
      "metadata": {
        "id": "CWLney5Az7CP"
      },
      "outputs": [],
      "source": []
    },
    {
      "cell_type": "code",
      "source": [
        "n=int(input())\n",
        "for i in range(n,0,-1):\n",
        "  for j in range(n,i-1):\n",
        "    print(j,end=\" \")\n",
        "  print()"
      ],
      "metadata": {
        "colab": {
          "base_uri": "https://localhost:8080/"
        },
        "id": "fN-IxjYtmDqY",
        "outputId": "455f00ba-d96e-4b13-a2ce-beb7513b3aad"
      },
      "execution_count": null,
      "outputs": [
        {
          "output_type": "stream",
          "name": "stdout",
          "text": [
            "5\n",
            "\n",
            "\n",
            "\n",
            "\n",
            "\n"
          ]
        }
      ]
    },
    {
      "cell_type": "code",
      "execution_count": null,
      "metadata": {
        "colab": {
          "base_uri": "https://localhost:8080/"
        },
        "id": "ofo2RGHEysQp",
        "outputId": "4a88ad0a-8e7c-4567-f744-440e2ada351c"
      },
      "outputs": [
        {
          "name": "stdout",
          "output_type": "stream",
          "text": [
            "3\n",
            "prime\n"
          ]
        }
      ],
      "source": [
        "n=int(input())\n",
        "flag=False\n",
        "if n>1:\n",
        "  for i in range(2,n):\n",
        "    if n%i==0:\n",
        "      flag=True\n",
        "      break\n",
        "if flag==True:\n",
        "  print(\"not prime\")\n",
        "else:\n",
        "  print(\"prime\")\n"
      ]
    },
    {
      "cell_type": "code",
      "execution_count": null,
      "metadata": {
        "colab": {
          "base_uri": "https://localhost:8080/"
        },
        "id": "7Q8dXNNU0pRp",
        "outputId": "e3056979-a978-498a-af99-cabd17b7006e"
      },
      "outputs": [
        {
          "name": "stdout",
          "output_type": "stream",
          "text": [
            "21\n",
            "prime\n",
            "not prime\n"
          ]
        }
      ],
      "source": [
        "n=int(input())\n",
        "for i in range(2,n):\n",
        "  if n%i==0:\n",
        "    print(\"not prime\")\n",
        "    break\n",
        "  else:\n",
        "    print(\"prime\")"
      ]
    },
    {
      "cell_type": "code",
      "execution_count": null,
      "metadata": {
        "colab": {
          "base_uri": "https://localhost:8080/"
        },
        "id": "i7gkBlpQ1g55",
        "outputId": "2c3e0fd2-b294-45b2-ccca-2f0447459deb"
      },
      "outputs": [
        {
          "name": "stdout",
          "output_type": "stream",
          "text": [
            "lokesh\n"
          ]
        }
      ],
      "source": [
        "print(\"lokesh\")"
      ]
    },
    {
      "cell_type": "code",
      "execution_count": null,
      "metadata": {
        "colab": {
          "base_uri": "https://localhost:8080/"
        },
        "id": "k82jOLqn14U3",
        "outputId": "5bfa3732-54d0-42d2-f021-e74311ece283"
      },
      "outputs": [
        {
          "name": "stdout",
          "output_type": "stream",
          "text": [
            "20\n",
            "2 3 5 7 11 13 17 19\n"
          ]
        }
      ],
      "source": [
        "num=int(input())\n",
        "arr=[]\n",
        "if num > 1:\n",
        "    for i in range(2, num + 2):\n",
        "        for j in range(2, i):\n",
        "            if i % j == 0:\n",
        "                break\n",
        "        else:\n",
        "            arr.append(i)\n",
        "print(*arr)"
      ]
    },
    {
      "cell_type": "code",
      "execution_count": null,
      "metadata": {
        "id": "i6hJdiKV4phw"
      },
      "outputs": [],
      "source": [
        "n=2\n",
        "for i in range(2,n):\n",
        "  print(\"loki\")"
      ]
    },
    {
      "cell_type": "code",
      "execution_count": null,
      "metadata": {
        "colab": {
          "base_uri": "https://localhost:8080/"
        },
        "id": "JfzoxydPnapT",
        "outputId": "66703985-9b48-4fe9-bbdc-1bf9e448673d"
      },
      "outputs": [
        {
          "name": "stdout",
          "output_type": "stream",
          "text": [
            "(()()())[\n",
            "-1\n"
          ]
        }
      ],
      "source": [
        "n=input()\n",
        "s=[]\n",
        "count=0\n",
        "a=0\n",
        "for i in range(0,len(n)):\n",
        "    if n[i]==\"(\":\n",
        "        s.append(n[i])\n",
        "        count+=1\n",
        "    elif len(s)!=0 and n[i]==\")\":\n",
        "        s.pop()\n",
        "    else:\n",
        "      a=-1\n",
        "\n",
        "if len(s)==0 and a!=-1:\n",
        "    print(count)\n",
        "else:\n",
        "    print(\"-1\")"
      ]
    },
    {
      "cell_type": "code",
      "execution_count": null,
      "metadata": {
        "colab": {
          "base_uri": "https://localhost:8080/"
        },
        "id": "TjFqGXLw8W3F",
        "outputId": "498ba12f-09ae-4977-aa16-cfbf2014905c"
      },
      "outputs": [
        {
          "name": "stdout",
          "output_type": "stream",
          "text": [
            "124254\n"
          ]
        }
      ],
      "source": [
        "s=\"124\"\n",
        "b=\"254\"\n",
        "print(s+b)"
      ]
    },
    {
      "cell_type": "code",
      "execution_count": null,
      "metadata": {
        "colab": {
          "base_uri": "https://localhost:8080/"
        },
        "id": "BdTGJo2q8xEn",
        "outputId": "64a5a511-7e61-4b31-a02d-4e9ecd4850d9"
      },
      "outputs": [
        {
          "name": "stdout",
          "output_type": "stream",
          "text": [
            "524646\n"
          ]
        }
      ],
      "source": [
        "s=\"52464\"\n",
        "s=s+\"6\"\n",
        "print(s)"
      ]
    },
    {
      "cell_type": "code",
      "execution_count": null,
      "metadata": {
        "colab": {
          "base_uri": "https://localhost:8080/"
        },
        "id": "DdLzxj7i9qjI",
        "outputId": "bc51dd41-2883-4173-b2f8-c2ae5a439fa8"
      },
      "outputs": [
        {
          "name": "stdout",
          "output_type": "stream",
          "text": [
            "lokesh\n",
            "l0 o1 k2 e3 s4 h5 "
          ]
        }
      ],
      "source": [
        "n=str(input())\n",
        "for l in range(0,len(n)):\n",
        "  print(n[l]+str(l),end=\" \")"
      ]
    },
    {
      "cell_type": "code",
      "execution_count": null,
      "metadata": {
        "colab": {
          "base_uri": "https://localhost:8080/"
        },
        "id": "vAItLKl5_09c",
        "outputId": "7f59b185-c4a4-4b09-c9e7-d4a03771fe86"
      },
      "outputs": [
        {
          "name": "stdout",
          "output_type": "stream",
          "text": [
            "2\n"
          ]
        }
      ],
      "source": [
        "n=\"1202451245\"\n",
        "print(n.count(\"5\"))\n"
      ]
    },
    {
      "cell_type": "code",
      "execution_count": null,
      "metadata": {
        "colab": {
          "base_uri": "https://localhost:8080/"
        },
        "id": "DJSA0LN9AbEY",
        "outputId": "44a3c7d4-bdf5-4a03-898c-a2a0cca76e0c"
      },
      "outputs": [
        {
          "name": "stdout",
          "output_type": "stream",
          "text": [
            "9491557132\n",
            "0\n",
            "6\n",
            "8\n"
          ]
        }
      ],
      "source": [
        "n=input()\n",
        "for i in range(0,10):\n",
        "  if n.count(str(i))==0:\n",
        "    print(i)"
      ]
    },
    {
      "cell_type": "code",
      "execution_count": null,
      "metadata": {
        "id": "3cOn0Iz0AScW"
      },
      "outputs": [],
      "source": [
        "n=input()\n",
        "if n.count(\"0\")==0\n",
        "print"
      ]
    },
    {
      "cell_type": "markdown",
      "metadata": {
        "id": "lHVNHMwA8fLp"
      },
      "source": [
        "n=1234\n",
        "b=524\n",
        "print"
      ]
    },
    {
      "cell_type": "markdown",
      "metadata": {
        "id": "fMInGvFK-LCD"
      },
      "source": [
        "loki\n",
        "\n",
        "l0 o1 k2 i3\n",
        "l1o2k3i4"
      ]
    },
    {
      "cell_type": "code",
      "execution_count": null,
      "metadata": {
        "colab": {
          "base_uri": "https://localhost:8080/"
        },
        "id": "GTGLpvY4B0RX",
        "outputId": "b14427c4-7f9f-4bce-814d-536b977559b5"
      },
      "outputs": [
        {
          "name": "stdout",
          "output_type": "stream",
          "text": [
            "LOKESH\n"
          ]
        }
      ],
      "source": [
        "n=\"lokesh\"\n",
        "n=n.upper()\n",
        "print(n)"
      ]
    },
    {
      "cell_type": "code",
      "execution_count": null,
      "metadata": {
        "colab": {
          "base_uri": "https://localhost:8080/"
        },
        "id": "iWFAlaxSCcVn",
        "outputId": "0f4aedc6-1dd1-4d3d-ef55-842e305688ea"
      },
      "outputs": [
        {
          "name": "stdout",
          "output_type": "stream",
          "text": [
            "loki\n",
            "2\n",
            "k\n"
          ]
        }
      ],
      "source": [
        "n=input()\n",
        "h=int(input())\n",
        "if len(n)<h:\n",
        "  print(\"does not exist\")\n",
        "else:\n",
        "  print(n[h])\n"
      ]
    },
    {
      "cell_type": "code",
      "execution_count": null,
      "metadata": {
        "colab": {
          "base_uri": "https://localhost:8080/"
        },
        "id": "ORrHWtTKEBUI",
        "outputId": "2d9b5c7c-5a8e-4b8c-93ff-b21ce902b2d3"
      },
      "outputs": [
        {
          "name": "stdout",
          "output_type": "stream",
          "text": [
            "20\n",
            "0 1 2 3 5 8 13 21 34 55 89 144 233 377 610 987 1597 2584 4181 6765 "
          ]
        }
      ],
      "source": [
        "n=int(input())\n",
        "a=0\n",
        "print(a,end=\" \")\n",
        "b=1\n",
        "for i in range(n-1):\n",
        "  c=a+b\n",
        "  print(c,end=\" \")\n",
        "  a=b\n",
        "  b=c\n",
        ""
      ]
    },
    {
      "cell_type": "code",
      "execution_count": null,
      "metadata": {
        "colab": {
          "base_uri": "https://localhost:8080/"
        },
        "id": "rtUpZqU8Gg4e",
        "outputId": "f2993c1f-62d5-47d7-95ea-289c42f6c779"
      },
      "outputs": [
        {
          "name": "stdout",
          "output_type": "stream",
          "text": [
            "20\n",
            "0 1 3 6 11 20 37 68 125 230 423 778 1431 2632 4841 8904 16377 30122 55403 101902 187427 "
          ]
        }
      ],
      "source": [
        "n=int(input())\n",
        "a=0\n",
        "print(a,end=\" \")\n",
        "b=1\n",
        "print(b,end=\" \")\n",
        "c=2\n",
        "for i in range(n-1):\n",
        "  d=a+b+c\n",
        "  print(d,end=\" \")\n",
        "  a=b\n",
        "  b=c\n",
        "  c=d\n"
      ]
    },
    {
      "cell_type": "code",
      "execution_count": null,
      "metadata": {
        "colab": {
          "base_uri": "https://localhost:8080/"
        },
        "id": "RKr1g6rAHV_b",
        "outputId": "3852a36f-1285-4f2f-f74e-80307edbb775"
      },
      "outputs": [
        {
          "name": "stdout",
          "output_type": "stream",
          "text": [
            "1\n",
            "2\n",
            "3\n",
            "possible\n"
          ]
        }
      ],
      "source": [
        "a=int(input())\n",
        "b=int(input())\n",
        "c=int(input())\n",
        "if a+b==c or b+c==a or c+a==b:\n",
        "  print(\"possible\")\n",
        "else:\n",
        "  print(\"ipossible\")\n"
      ]
    },
    {
      "cell_type": "code",
      "execution_count": null,
      "metadata": {
        "colab": {
          "base_uri": "https://localhost:8080/"
        },
        "id": "D-wGgGi5IceA",
        "outputId": "8b1b4395-a533-4e83-b4b3-85dd33eb139c"
      },
      "outputs": [
        {
          "name": "stdout",
          "output_type": "stream",
          "text": [
            "124512\n",
            "3\n"
          ]
        }
      ],
      "source": [
        "s=input()\n",
        "n=0\n",
        "m=0\n",
        "for i in range(0,len(s)):\n",
        "  if i%2!=0:\n",
        "    n=int(s[i])+n\n",
        "  else:\n",
        "    m=int(s[i])+m\n",
        "print(n-m)\n"
      ]
    },
    {
      "cell_type": "code",
      "execution_count": null,
      "metadata": {
        "colab": {
          "base_uri": "https://localhost:8080/"
        },
        "id": "dZJT3L6kUmSk",
        "outputId": "91aed721-bdf9-4166-e2c6-26caa5ad22ba"
      },
      "outputs": [
        {
          "name": "stdout",
          "output_type": "stream",
          "text": [
            "4\n",
            "****\n",
            "*  *\n",
            "*  *\n",
            "*  *\n",
            "*  *\n",
            "****"
          ]
        }
      ],
      "source": [
        "n=int(input())\n",
        "for i in range(n):\n",
        "  print(\"*\",end=\"\")\n",
        "print()\n",
        "for i in range(n):\n",
        "  for j in range(1,n+1):\n",
        "    if j==1 or j==n:\n",
        "      print(\"*\",end=\"\")\n",
        "    else:\n",
        "      print(end=\" \")\n",
        "\n",
        "  print()\n",
        "for i in range(n):\n",
        "  print(\"*\",end=\"\")"
      ]
    },
    {
      "cell_type": "code",
      "execution_count": null,
      "metadata": {
        "colab": {
          "base_uri": "https://localhost:8080/"
        },
        "id": "_InZCEH9qe29",
        "outputId": "3d78b7c5-1712-41b1-9b17-227208f31be7"
      },
      "outputs": [
        {
          "name": "stdout",
          "output_type": "stream",
          "text": [
            "2\n",
            "10\n",
            "6\n",
            "1 2 1 4 1 1 3 1 1 5\n",
            "RAMYA\n",
            "6\n",
            "3\n",
            "1 2 3 4 2 1\n",
            "JANI\n"
          ]
        }
      ],
      "source": [
        "n=int(input())\n",
        "for i in range(n):\n",
        "  N=int(input())\n",
        "  M=int(input())\n",
        "  S=list(map(int,input().split()))\n",
        "  A=[]\n",
        "  [A.append(i) for i in S if i not in A]\n",
        "  l=len(A)\n",
        "  if l>M:\n",
        "    print(\"JANI\")\n",
        "  else:\n",
        "    print(\"RAMYA\")\n"
      ]
    },
    {
      "cell_type": "code",
      "execution_count": null,
      "metadata": {
        "colab": {
          "base_uri": "https://localhost:8080/"
        },
        "id": "TH8y1qsJqeqR",
        "outputId": "90083867-eeb7-4f6e-fcd7-6621dcdd55b6"
      },
      "outputs": [
        {
          "name": "stdout",
          "output_type": "stream",
          "text": [
            "1 2 3 4 5 2 1 3 6 7 8 9 1 0 2 \n",
            "[1, 2, 3, 4, 5, 6, 7, 8, 9, 0]\n"
          ]
        }
      ],
      "source": [
        "n=int(input())\n",
        "arr=list(map(int,input().split()))\n",
        "l=[]\n",
        "[l.append(i) for i in arr if i not in l]\n",
        "print(*l)"
      ]
    },
    {
      "cell_type": "code",
      "execution_count": null,
      "metadata": {
        "colab": {
          "base_uri": "https://localhost:8080/"
        },
        "id": "ByVVqNVFuiV3",
        "outputId": "ef5886f9-19a5-47e9-88f1-ef6a600fbe63"
      },
      "outputs": [
        {
          "name": "stdout",
          "output_type": "stream",
          "text": [
            "8\n",
            "4 1 2 10 30 8 6 20\n",
            "[1, 2, 4, 10, 30, 20, 8, 6]\n"
          ]
        }
      ],
      "source": [
        "n=int(input())\n",
        "arr=list(map(int,input().split()))\n",
        "arr1=arr[:n//2]\n",
        "arr2=arr[n//2:]\n",
        "arr1.sort()\n",
        "arr2.sort(reverse=True)\n",
        "print(arr1+arr2)"
      ]
    },
    {
      "cell_type": "code",
      "execution_count": null,
      "metadata": {
        "colab": {
          "base_uri": "https://localhost:8080/"
        },
        "id": "0vNSnvPhUEZk",
        "outputId": "f2aaf237-8342-4c69-bdcf-747bbd795c18"
      },
      "outputs": [
        {
          "name": "stdout",
          "output_type": "stream",
          "text": [
            "[2, 4, 6, 8, 10]\n"
          ]
        }
      ],
      "source": [
        "l=[1,2,3,4,5]\n",
        "L=map(lambda x: x*2,l)\n",
        "print(list(L))"
      ]
    },
    {
      "cell_type": "code",
      "execution_count": null,
      "metadata": {
        "colab": {
          "base_uri": "https://localhost:8080/"
        },
        "id": "2-HXzojjVae2",
        "outputId": "6ff990da-9521-469e-87f5-c7d1b2075d43"
      },
      "outputs": [
        {
          "name": "stdout",
          "output_type": "stream",
          "text": [
            "2150213\n",
            "x value is a:: 215\n",
            "y value is a:: 213\n"
          ]
        }
      ],
      "source": [
        "x,y=input().split(\"0\")\n",
        "print(\"x value is a::\",x)\n",
        "print(\"y value is a::\",y)\n"
      ]
    },
    {
      "cell_type": "code",
      "execution_count": null,
      "metadata": {
        "colab": {
          "base_uri": "https://localhost:8080/"
        },
        "id": "Y3PzMAkCXwQ7",
        "outputId": "511b98fb-ae8a-46ba-8476-9e11325c147d"
      },
      "outputs": [
        {
          "name": "stdout",
          "output_type": "stream",
          "text": [
            "4\n",
            "2\n",
            "1\n",
            "2\n",
            "3\n",
            "4\n",
            "5\n"
          ]
        }
      ],
      "source": [
        "n=int(input())\n",
        "k=int(input())\n",
        "l=[]\n",
        "for i in range(n):\n",
        "  e=int(input())\n",
        "  l.append(e)\n",
        "print(sum(l)//2)"
      ]
    },
    {
      "cell_type": "code",
      "execution_count": null,
      "metadata": {
        "colab": {
          "base_uri": "https://localhost:8080/"
        },
        "id": "52iGZYj0DsEC",
        "outputId": "df29db0d-fd73-4d1f-902c-f104a03d080e"
      },
      "outputs": [
        {
          "name": "stdout",
          "output_type": "stream",
          "text": [
            "91\n"
          ]
        }
      ],
      "source": [
        "import numpy as np\n",
        "arr=np.array([1,2,3,4,5,6])\n",
        "arr0=np.array([5,6,2,3,4,6])\n",
        "arr1=np.dot(arr,arr0)\n",
        "print(arr1)"
      ]
    },
    {
      "cell_type": "code",
      "execution_count": null,
      "metadata": {
        "id": "_-VDUrpkJi6s"
      },
      "outputs": [],
      "source": []
    },
    {
      "cell_type": "code",
      "execution_count": null,
      "metadata": {
        "colab": {
          "base_uri": "https://localhost:8080/"
        },
        "id": "Lr4lWsv5qZyB",
        "outputId": "27db9a51-9712-4ac6-9bf8-b960304ae6b9"
      },
      "outputs": [
        {
          "output_type": "stream",
          "name": "stdout",
          "text": [
            "[50 52 25 36]\n",
            "\n"
          ]
        }
      ],
      "source": [
        "import numpy as np\n",
        "arr=np.array([45,52,25,36])\n",
        "v=arr.view()\n",
        "arr[0]=50\n",
        "print(v)\n",
        "print()"
      ]
    },
    {
      "cell_type": "code",
      "execution_count": null,
      "metadata": {
        "colab": {
          "base_uri": "https://localhost:8080/"
        },
        "id": "v2q00Q5qrnb9",
        "outputId": "1da9fc2c-f7b6-461f-b9bc-2e940e444121"
      },
      "outputs": [
        {
          "name": "stdout",
          "output_type": "stream",
          "text": [
            "[42  2  3  4  5]\n",
            "[1 2 3 4 5]\n"
          ]
        }
      ],
      "source": [
        "import numpy as np\n",
        "\n",
        "arr = np.array([1, 2, 3, 4, 5])\n",
        "x = arr.copy()\n",
        "arr[0] = 42\n",
        "\n",
        "print(arr)\n",
        "print(x)"
      ]
    },
    {
      "cell_type": "code",
      "execution_count": null,
      "metadata": {
        "colab": {
          "base_uri": "https://localhost:8080/"
        },
        "id": "PyFB10E4sUOG",
        "outputId": "4917faf4-f03a-4ff6-cfb1-d3a8c93f6bd1"
      },
      "outputs": [
        {
          "name": "stdout",
          "output_type": "stream",
          "text": [
            "[ 17 282]\n",
            "--------------------------------------------------------------------------------------\n"
          ]
        }
      ],
      "source": [
        "import numpy as np\n",
        "arr=np.array([1,2,3,4,5,2])\n",
        "arr0=np.array([45,3,54,89,39,52])\n",
        "x=np.sum([arr,arr0],axis=1)\n",
        "print(x)\n",
        "print(\"--------------------------------------------------------------------------------------\")"
      ]
    },
    {
      "cell_type": "code",
      "source": [
        "list_m = [[1, 2, 3], [4, 5, 6], [7, 8, 9]] #nested lists\n",
        "arr_m = np.array(list_m,dtype=np.int16)\n",
        "print(arr_m)"
      ],
      "metadata": {
        "id": "Adgg1N_BDWQJ"
      },
      "execution_count": null,
      "outputs": []
    },
    {
      "cell_type": "code",
      "source": [
        "arr_1= np.random.randint(10,100,7)\n",
        "print(arr_1)"
      ],
      "metadata": {
        "id": "wQDBbEQlDaSj"
      },
      "execution_count": null,
      "outputs": []
    },
    {
      "cell_type": "code",
      "source": [
        "x = [1,2,3]\n",
        "a = np.asarray(x)\n",
        "print (a)"
      ],
      "metadata": {
        "id": "3b4VaZ5kDd2o"
      },
      "execution_count": null,
      "outputs": []
    },
    {
      "cell_type": "code",
      "source": [
        "x = [1,2,3]\n",
        "a = np.asarray(x)\n",
        "print (a)"
      ],
      "metadata": {
        "id": "BtYRZMkVDh9d"
      },
      "execution_count": null,
      "outputs": []
    },
    {
      "cell_type": "code",
      "source": [
        "import numpy as np\n",
        "x = np.array([[3,2,1],[4,6,1]])\n",
        "print(x.size)"
      ],
      "metadata": {
        "id": "Ev_wEUZaDloM"
      },
      "execution_count": null,
      "outputs": []
    },
    {
      "cell_type": "code",
      "source": [
        "import numpy as np\n",
        "a = np.array([[1,2,3],[4,5,6]])\n",
        "a.itemsize"
      ],
      "metadata": {
        "id": "vNmIUHuQDonG"
      },
      "execution_count": null,
      "outputs": []
    },
    {
      "cell_type": "code",
      "source": [],
      "metadata": {
        "id": "XzunSMcyDs2u"
      },
      "execution_count": null,
      "outputs": []
    },
    {
      "cell_type": "code",
      "source": [
        "import numpy as np\n",
        "a = np.array([[1,2,3],[4,5,6]])\n",
        "a.ndim"
      ],
      "metadata": {
        "id": "cUB4ZIuaDsd-"
      },
      "execution_count": null,
      "outputs": []
    },
    {
      "cell_type": "code",
      "execution_count": null,
      "metadata": {
        "colab": {
          "base_uri": "https://localhost:8080/"
        },
        "id": "4m5aqF5hyo8L",
        "outputId": "0a102481-223e-4e4e-b974-fd2c85141230"
      },
      "outputs": [
        {
          "name": "stdout",
          "output_type": "stream",
          "text": [
            "   calories  duration\n",
            "0       420        50\n",
            "1       380        40\n",
            "2       390        45\n",
            "------------------------------------------------------------------------------------------------------------------------------\n",
            "calories    420\n",
            "duration     50\n",
            "Name: 0, dtype: int64\n"
          ]
        }
      ],
      "source": [
        "import pandas as pd\n",
        "\n",
        "data = {\n",
        "  \"calories\": [420, 380, 390],\n",
        "  \"duration\": [50, 40, 45]\n",
        "}\n",
        "\n",
        "#load data into a DataFrame object:\n",
        "loki= pd.DataFrame(data)\n",
        "print(df)\n",
        "print(\"------------------------------------------------------------------------------------------------------------------------------\")\n",
        "print(loki.loc[0])"
      ]
    },
    {
      "cell_type": "code",
      "execution_count": null,
      "metadata": {
        "colab": {
          "base_uri": "https://localhost:8080/",
          "height": 143
        },
        "id": "EW8k1437zZLF",
        "outputId": "cafafe5f-8675-4e58-e29c-cc392900ba79"
      },
      "outputs": [
        {
          "data": {
            "text/html": [
              "\n",
              "  <div id=\"df-92b817cd-095e-4fac-a665-546e4618f224\">\n",
              "    <div class=\"colab-df-container\">\n",
              "      <div>\n",
              "<style scoped>\n",
              "    .dataframe tbody tr th:only-of-type {\n",
              "        vertical-align: middle;\n",
              "    }\n",
              "\n",
              "    .dataframe tbody tr th {\n",
              "        vertical-align: top;\n",
              "    }\n",
              "\n",
              "    .dataframe thead th {\n",
              "        text-align: right;\n",
              "    }\n",
              "</style>\n",
              "<table border=\"1\" class=\"dataframe\">\n",
              "  <thead>\n",
              "    <tr style=\"text-align: right;\">\n",
              "      <th></th>\n",
              "      <th>calories</th>\n",
              "      <th>duration</th>\n",
              "    </tr>\n",
              "  </thead>\n",
              "  <tbody>\n",
              "    <tr>\n",
              "      <th>0</th>\n",
              "      <td>420</td>\n",
              "      <td>50</td>\n",
              "    </tr>\n",
              "    <tr>\n",
              "      <th>1</th>\n",
              "      <td>380</td>\n",
              "      <td>40</td>\n",
              "    </tr>\n",
              "    <tr>\n",
              "      <th>2</th>\n",
              "      <td>390</td>\n",
              "      <td>45</td>\n",
              "    </tr>\n",
              "  </tbody>\n",
              "</table>\n",
              "</div>\n",
              "      <button class=\"colab-df-convert\" onclick=\"convertToInteractive('df-92b817cd-095e-4fac-a665-546e4618f224')\"\n",
              "              title=\"Convert this dataframe to an interactive table.\"\n",
              "              style=\"display:none;\">\n",
              "        \n",
              "  <svg xmlns=\"http://www.w3.org/2000/svg\" height=\"24px\"viewBox=\"0 0 24 24\"\n",
              "       width=\"24px\">\n",
              "    <path d=\"M0 0h24v24H0V0z\" fill=\"none\"/>\n",
              "    <path d=\"M18.56 5.44l.94 2.06.94-2.06 2.06-.94-2.06-.94-.94-2.06-.94 2.06-2.06.94zm-11 1L8.5 8.5l.94-2.06 2.06-.94-2.06-.94L8.5 2.5l-.94 2.06-2.06.94zm10 10l.94 2.06.94-2.06 2.06-.94-2.06-.94-.94-2.06-.94 2.06-2.06.94z\"/><path d=\"M17.41 7.96l-1.37-1.37c-.4-.4-.92-.59-1.43-.59-.52 0-1.04.2-1.43.59L10.3 9.45l-7.72 7.72c-.78.78-.78 2.05 0 2.83L4 21.41c.39.39.9.59 1.41.59.51 0 1.02-.2 1.41-.59l7.78-7.78 2.81-2.81c.8-.78.8-2.07 0-2.86zM5.41 20L4 18.59l7.72-7.72 1.47 1.35L5.41 20z\"/>\n",
              "  </svg>\n",
              "      </button>\n",
              "      \n",
              "  <style>\n",
              "    .colab-df-container {\n",
              "      display:flex;\n",
              "      flex-wrap:wrap;\n",
              "      gap: 12px;\n",
              "    }\n",
              "\n",
              "    .colab-df-convert {\n",
              "      background-color: #E8F0FE;\n",
              "      border: none;\n",
              "      border-radius: 50%;\n",
              "      cursor: pointer;\n",
              "      display: none;\n",
              "      fill: #1967D2;\n",
              "      height: 32px;\n",
              "      padding: 0 0 0 0;\n",
              "      width: 32px;\n",
              "    }\n",
              "\n",
              "    .colab-df-convert:hover {\n",
              "      background-color: #E2EBFA;\n",
              "      box-shadow: 0px 1px 2px rgba(60, 64, 67, 0.3), 0px 1px 3px 1px rgba(60, 64, 67, 0.15);\n",
              "      fill: #174EA6;\n",
              "    }\n",
              "\n",
              "    [theme=dark] .colab-df-convert {\n",
              "      background-color: #3B4455;\n",
              "      fill: #D2E3FC;\n",
              "    }\n",
              "\n",
              "    [theme=dark] .colab-df-convert:hover {\n",
              "      background-color: #434B5C;\n",
              "      box-shadow: 0px 1px 3px 1px rgba(0, 0, 0, 0.15);\n",
              "      filter: drop-shadow(0px 1px 2px rgba(0, 0, 0, 0.3));\n",
              "      fill: #FFFFFF;\n",
              "    }\n",
              "  </style>\n",
              "\n",
              "      <script>\n",
              "        const buttonEl =\n",
              "          document.querySelector('#df-92b817cd-095e-4fac-a665-546e4618f224 button.colab-df-convert');\n",
              "        buttonEl.style.display =\n",
              "          google.colab.kernel.accessAllowed ? 'block' : 'none';\n",
              "\n",
              "        async function convertToInteractive(key) {\n",
              "          const element = document.querySelector('#df-92b817cd-095e-4fac-a665-546e4618f224');\n",
              "          const dataTable =\n",
              "            await google.colab.kernel.invokeFunction('convertToInteractive',\n",
              "                                                     [key], {});\n",
              "          if (!dataTable) return;\n",
              "\n",
              "          const docLinkHtml = 'Like what you see? Visit the ' +\n",
              "            '<a target=\"_blank\" href=https://colab.research.google.com/notebooks/data_table.ipynb>data table notebook</a>'\n",
              "            + ' to learn more about interactive tables.';\n",
              "          element.innerHTML = '';\n",
              "          dataTable['output_type'] = 'display_data';\n",
              "          await google.colab.output.renderOutput(dataTable, element);\n",
              "          const docLink = document.createElement('div');\n",
              "          docLink.innerHTML = docLinkHtml;\n",
              "          element.appendChild(docLink);\n",
              "        }\n",
              "      </script>\n",
              "    </div>\n",
              "  </div>\n",
              "  "
            ],
            "text/plain": [
              "   calories  duration\n",
              "0       420        50\n",
              "1       380        40\n",
              "2       390        45"
            ]
          },
          "execution_count": 26,
          "metadata": {},
          "output_type": "execute_result"
        }
      ],
      "source": [
        "loki"
      ]
    },
    {
      "cell_type": "code",
      "execution_count": null,
      "metadata": {
        "id": "V1u76UH7z5V3"
      },
      "outputs": [],
      "source": [
        "import pandas as pd\n"
      ]
    },
    {
      "cell_type": "code",
      "execution_count": null,
      "metadata": {
        "id": "mFYsbY-Z5r72",
        "colab": {
          "base_uri": "https://localhost:8080/",
          "height": 235
        },
        "outputId": "b8572e7d-58e9-4e81-e08c-e6b72c7e4c3b"
      },
      "outputs": [
        {
          "output_type": "error",
          "ename": "NameError",
          "evalue": "ignored",
          "traceback": [
            "\u001b[0;31m---------------------------------------------------------------------------\u001b[0m",
            "\u001b[0;31mNameError\u001b[0m                                 Traceback (most recent call last)",
            "\u001b[0;32m<ipython-input-2-df98ebab9dc7>\u001b[0m in \u001b[0;36m<module>\u001b[0;34m\u001b[0m\n\u001b[1;32m      6\u001b[0m \u001b[0;32mimport\u001b[0m \u001b[0mmatplotlib\u001b[0m\u001b[0;34m.\u001b[0m\u001b[0mpyplot\u001b[0m \u001b[0;32mas\u001b[0m \u001b[0mplt\u001b[0m\u001b[0;34m\u001b[0m\u001b[0;34m\u001b[0m\u001b[0m\n\u001b[1;32m      7\u001b[0m \u001b[0;34m\u001b[0m\u001b[0m\n\u001b[0;32m----> 8\u001b[0;31m \u001b[0mdf\u001b[0m\u001b[0;34m.\u001b[0m\u001b[0mplot\u001b[0m\u001b[0;34m(\u001b[0m\u001b[0;34m)\u001b[0m\u001b[0;34m\u001b[0m\u001b[0;34m\u001b[0m\u001b[0m\n\u001b[0m\u001b[1;32m      9\u001b[0m \u001b[0;34m\u001b[0m\u001b[0m\n\u001b[1;32m     10\u001b[0m \u001b[0mplt\u001b[0m\u001b[0;34m.\u001b[0m\u001b[0mshow\u001b[0m\u001b[0;34m(\u001b[0m\u001b[0;34m)\u001b[0m\u001b[0;34m\u001b[0m\u001b[0;34m\u001b[0m\u001b[0m\n",
            "\u001b[0;31mNameError\u001b[0m: name 'df' is not defined"
          ]
        }
      ],
      "source": [
        "#Three lines to make our compiler able to draw:\n",
        "import sys\n",
        "import matplotlib\n",
        "\n",
        "matplotlib.use('Agg')\n",
        "import matplotlib.pyplot as plt\n",
        "\n",
        "df.plot()\n",
        "\n",
        "plt.show()\n",
        "\n",
        "#Two  lines to make our compiler able to draw:\n",
        "\n",
        "sys.stdout.flush()\n"
      ]
    },
    {
      "cell_type": "code",
      "execution_count": null,
      "metadata": {
        "colab": {
          "background_save": true,
          "base_uri": "https://localhost:8080/"
        },
        "id": "En2j-7UKQ54R",
        "outputId": "9c279d3a-d20a-439d-c8df-48af6e8ae92c"
      },
      "outputs": [
        {
          "name": "stdout",
          "output_type": "stream",
          "text": [
            "['Hello', 'edyst', 1, 2, 3, 4, 5]\n"
          ]
        }
      ],
      "source": [
        "l1=[\"Hello\",\"edyst\"]\n",
        "s='python'\n",
        "l1.appen(s)\n",
        "print(l1)"
      ]
    },
    {
      "cell_type": "code",
      "execution_count": null,
      "metadata": {
        "colab": {
          "base_uri": "https://localhost:8080/"
        },
        "id": "rfD9vlG6SqIs",
        "outputId": "75f90fd6-a45a-4c98-8d32-c84582bcddbe"
      },
      "outputs": [
        {
          "name": "stdout",
          "output_type": "stream",
          "text": [
            "['Hello', 'edyst', 1, 2, 3]\n"
          ]
        }
      ],
      "source": [
        "l1=[\"Hello\",\"edyst\"]\n",
        "l2=[1,2,3]\n",
        "l1.extend(l2)\n",
        "print(l1)"
      ]
    },
    {
      "cell_type": "code",
      "execution_count": null,
      "metadata": {
        "colab": {
          "base_uri": "https://localhost:8080/"
        },
        "id": "WN9REowkTK8s",
        "outputId": "eb04ae18-8c26-4724-e276-451fbcd2f4b9"
      },
      "outputs": [
        {
          "name": "stdout",
          "output_type": "stream",
          "text": [
            "6\n"
          ]
        }
      ],
      "source": [
        "l=[1,2,3]\n",
        "mul=1\n",
        "for i in range(0,len(l)):\n",
        "  mul=mul*l[i]\n",
        "print(mul)"
      ]
    },
    {
      "cell_type": "code",
      "execution_count": null,
      "metadata": {
        "id": "1fdenTsafQUN"
      },
      "outputs": [],
      "source": []
    },
    {
      "cell_type": "code",
      "execution_count": null,
      "metadata": {
        "colab": {
          "base_uri": "https://localhost:8080/"
        },
        "id": "f4xZsV8Ubfqu",
        "outputId": "5535a07e-d47f-49a4-d85b-af532443affb"
      },
      "outputs": [
        {
          "name": "stdout",
          "output_type": "stream",
          "text": [
            "[1, 2, 3, 4, 2, 1, 2, 3, 5]\n",
            "3\n"
          ]
        }
      ],
      "source": [
        "l1=[1,2,3,4,2]\n",
        "l2=[1,2,3,5]\n",
        "l3=l1+l2\n",
        "print(l3)\n",
        "print(l3.count(2))"
      ]
    },
    {
      "cell_type": "code",
      "execution_count": null,
      "metadata": {
        "colab": {
          "base_uri": "https://localhost:8080/",
          "height": 217
        },
        "id": "d4AuM4RD0Bqo",
        "outputId": "2234420a-dc61-4fbf-a069-d1c2cec49714"
      },
      "outputs": [
        {
          "ename": "AttributeError",
          "evalue": "ignored",
          "output_type": "error",
          "traceback": [
            "\u001b[0;31m---------------------------------------------------------------------------\u001b[0m",
            "\u001b[0;31mAttributeError\u001b[0m                            Traceback (most recent call last)",
            "\u001b[0;32m<ipython-input-6-de0549424f56>\u001b[0m in \u001b[0;36m<module>\u001b[0;34m\u001b[0m\n\u001b[1;32m      1\u001b[0m \u001b[0ml1\u001b[0m\u001b[0;34m=\u001b[0m\u001b[0;34m[\u001b[0m\u001b[0;36m1\u001b[0m\u001b[0;34m,\u001b[0m\u001b[0;36m2\u001b[0m\u001b[0;34m,\u001b[0m\u001b[0;36m3\u001b[0m\u001b[0;34m,\u001b[0m\u001b[0;36m4\u001b[0m\u001b[0;34m,\u001b[0m\u001b[0;36m2\u001b[0m\u001b[0;34m]\u001b[0m\u001b[0;34m\u001b[0m\u001b[0;34m\u001b[0m\u001b[0m\n\u001b[1;32m      2\u001b[0m \u001b[0ml2\u001b[0m\u001b[0;34m=\u001b[0m\u001b[0;34m[\u001b[0m\u001b[0;36m1\u001b[0m\u001b[0;34m,\u001b[0m\u001b[0;36m2\u001b[0m\u001b[0;34m,\u001b[0m\u001b[0;36m3\u001b[0m\u001b[0;34m,\u001b[0m\u001b[0;36m5\u001b[0m\u001b[0;34m]\u001b[0m\u001b[0;34m\u001b[0m\u001b[0;34m\u001b[0m\u001b[0m\n\u001b[0;32m----> 3\u001b[0;31m \u001b[0ml3\u001b[0m \u001b[0;34m=\u001b[0m \u001b[0ml1\u001b[0m\u001b[0;34m.\u001b[0m\u001b[0msum\u001b[0m\u001b[0;34m(\u001b[0m\u001b[0;34m)\u001b[0m\u001b[0;34m\u001b[0m\u001b[0;34m\u001b[0m\u001b[0m\n\u001b[0m\u001b[1;32m      4\u001b[0m \u001b[0ml3\u001b[0m\u001b[0;34m\u001b[0m\u001b[0;34m\u001b[0m\u001b[0m\n",
            "\u001b[0;31mAttributeError\u001b[0m: 'list' object has no attribute 'sum'"
          ]
        }
      ],
      "source": [
        "l1=[1,2,3,4,2]\n",
        "l2=[1,2,3,5]\n",
        "l3 = l1.sum()\n",
        "l3"
      ]
    },
    {
      "cell_type": "code",
      "execution_count": null,
      "metadata": {
        "colab": {
          "base_uri": "https://localhost:8080/",
          "height": 200
        },
        "id": "6kWkGgoKFoLX",
        "outputId": "864c7f4d-8807-4f7a-9be3-49249e41787b"
      },
      "outputs": [
        {
          "ename": "NameError",
          "evalue": "ignored",
          "output_type": "error",
          "traceback": [
            "\u001b[0;31m---------------------------------------------------------------------------\u001b[0m",
            "\u001b[0;31mNameError\u001b[0m                                 Traceback (most recent call last)",
            "\u001b[0;32m<ipython-input-32-429310e21475>\u001b[0m in \u001b[0;36m<module>\u001b[0;34m\u001b[0m\n\u001b[1;32m      1\u001b[0m \u001b[0ml\u001b[0m\u001b[0;34m=\u001b[0m\u001b[0;34m[\u001b[0m\u001b[0;36m1\u001b[0m\u001b[0;34m,\u001b[0m\u001b[0;36m10\u001b[0m\u001b[0;34m,\u001b[0m\u001b[0;36m20\u001b[0m\u001b[0;34m,\u001b[0m\u001b[0;36m2\u001b[0m\u001b[0;34m,\u001b[0m\u001b[0;36m6\u001b[0m\u001b[0;34m,\u001b[0m\u001b[0;36m9\u001b[0m\u001b[0;34m,\u001b[0m\u001b[0;36m222\u001b[0m\u001b[0;34m,\u001b[0m\u001b[0;36m52\u001b[0m\u001b[0;34m,\u001b[0m\u001b[0;36m12\u001b[0m\u001b[0;34m]\u001b[0m\u001b[0;34m\u001b[0m\u001b[0;34m\u001b[0m\u001b[0m\n\u001b[0;32m----> 2\u001b[0;31m \u001b[0ml\u001b[0m\u001b[0;34m.\u001b[0m\u001b[0msort\u001b[0m\u001b[0;34m(\u001b[0m\u001b[0mreverse\u001b[0m\u001b[0;34m(\u001b[0m\u001b[0;34m)\u001b[0m\u001b[0;34m)\u001b[0m\u001b[0;34m\u001b[0m\u001b[0;34m\u001b[0m\u001b[0m\n\u001b[0m\u001b[1;32m      3\u001b[0m \u001b[0mprint\u001b[0m\u001b[0;34m(\u001b[0m\u001b[0ml\u001b[0m\u001b[0;34m)\u001b[0m\u001b[0;34m\u001b[0m\u001b[0;34m\u001b[0m\u001b[0m\n",
            "\u001b[0;31mNameError\u001b[0m: name 'reverse' is not defined"
          ]
        }
      ],
      "source": [
        "l=[1,10,20,2,6,9,222,52,12]\n",
        "l.sort(reverse))\n",
        "print(l)"
      ]
    },
    {
      "cell_type": "code",
      "execution_count": null,
      "metadata": {
        "colab": {
          "background_save": true
        },
        "id": "QiNMh1-sXBAX",
        "outputId": "a5949b8b-1d89-41f8-9964-def42c001ea0"
      },
      "outputs": [
        {
          "name": "stdout",
          "output_type": "stream",
          "text": [
            "[5, 6, 7, 8, 9]\n"
          ]
        }
      ],
      "source": [
        "l1=[1,2,3,4]\n",
        "l2=[5,6,7,8,9]\n",
        "l1.append(l2)\n",
        "print(l2)"
      ]
    },
    {
      "cell_type": "code",
      "source": [
        "n=int(input())\n",
        "for i in range(0,n):\n",
        "  for j in range(0,n):\n",
        "    if i==0 or j==0 or i==n"
      ],
      "metadata": {
        "id": "YUVY_DwBmbnk"
      },
      "execution_count": null,
      "outputs": []
    },
    {
      "cell_type": "code",
      "source": [
        "def fun(n):\n",
        "  if n%5==0:\n",
        "    x=int(n/5)\n",
        "    print(x)\n",
        "  else:\n",
        "    print(int(n//5+1))\n",
        "n=int(input())\n",
        "fun(n)"
      ],
      "metadata": {
        "colab": {
          "base_uri": "https://localhost:8080/"
        },
        "id": "8R9c5B_K0NbU",
        "outputId": "ba189d7f-f4ba-4026-9f8e-ec3501ac24c2"
      },
      "execution_count": null,
      "outputs": [
        {
          "output_type": "stream",
          "name": "stdout",
          "text": [
            "54\n",
            "11\n"
          ]
        }
      ]
    },
    {
      "cell_type": "code",
      "source": [
        "P=int(input())\n",
        "T=int(input())\n",
        "B=[]\n",
        "for i in range(2):\n",
        "  slab=int(input())\n",
        "  emi=0\n",
        "  for i in range(slab):\n",
        "    t,i = [float(x) for x in input().split()]\n",
        "    x=(1+i)**(t*12)\n",
        "    y=(P*i)/(1-1/x)\n",
        "    emi=emi+y\n",
        "  B.append(emi)\n",
        "if B[0]<B[1]:\n",
        "  print(\"Bank_1\")\n",
        "else:\n",
        "  print(\"Bank_2\")\n"
      ],
      "metadata": {
        "id": "FZeCLkxH5HLY",
        "colab": {
          "base_uri": "https://localhost:8080/"
        },
        "outputId": "c9e4ba0f-3fca-4b8d-e2cc-3755f444f1ce"
      },
      "execution_count": null,
      "outputs": [
        {
          "output_type": "stream",
          "name": "stdout",
          "text": [
            "10000\n",
            "20\n",
            "3\n",
            "5 9.5\n",
            "10 9.6\n",
            "5 8.5\n",
            "3\n",
            "10 6.9\n",
            "5 8.5\n",
            "5 7.9\n",
            "Bank_2\n"
          ]
        }
      ]
    },
    {
      "cell_type": "code",
      "source": [
        "P=int(input())\n",
        "T=int(input())\n",
        "B=[]\n",
        "for i in range(2):\n",
        "  slab=int(input())\n",
        "  emi=0\n",
        "  for i in range(slab):\n",
        "    t,i = [float(x) for x in input().split()]\n",
        "    B.append(i)\n",
        "\n",
        "if B[0]<B[1]:\n",
        "  print(\"Bank_1\")\n",
        "else:\n",
        "  print(\"Bank_2\")\n"
      ],
      "metadata": {
        "id": "M7rcLv-e1jUW"
      },
      "execution_count": null,
      "outputs": []
    },
    {
      "cell_type": "code",
      "source": [
        "P=int(input())\n",
        "T=int(input())\n",
        "B=[]\n",
        "casea = int(input())\n",
        "for i in range(casea):\n",
        "  c,d= [float(x) for x in input().split()]\n",
        "  B.append(d)\n",
        "l=[]\n",
        "caseb=int(input())\n",
        "for j in range(caseb):\n",
        "  p,q=[float(x) for x in input().split()]\n",
        "  l.append(q)\n",
        "v=sum(B)\n",
        "u=sum(l)\n",
        "if v>u:\n",
        "  print(\"Bank 2\")\n",
        "\n",
        "else:\n",
        "  print(\"Bank 1\")"
      ],
      "metadata": {
        "colab": {
          "base_uri": "https://localhost:8080/"
        },
        "id": "GN9waL4Qc-t_",
        "outputId": "f4e6b2a0-f234-4ba6-c127-1f73e69e8e26"
      },
      "execution_count": null,
      "outputs": [
        {
          "output_type": "stream",
          "name": "stdout",
          "text": [
            "500000\n",
            "26\n",
            "3\n",
            "13 9.5\n",
            "3 6.9\n",
            "10 5.6\n",
            "3\n",
            "14 8.5\n",
            "6 7.4\n",
            "6 9.6\n",
            "Bank 1\n"
          ]
        }
      ]
    },
    {
      "cell_type": "code",
      "source": [],
      "metadata": {
        "id": "iZCD_Q0AfAGW"
      },
      "execution_count": null,
      "outputs": []
    }
  ],
  "metadata": {
    "colab": {
      "provenance": [],
      "authorship_tag": "ABX9TyN2PjBJk4HpFFfZX4+4JI5G",
      "include_colab_link": true
    },
    "kernelspec": {
      "display_name": "Python 3",
      "name": "python3"
    },
    "language_info": {
      "name": "python"
    }
  },
  "nbformat": 4,
  "nbformat_minor": 0
}